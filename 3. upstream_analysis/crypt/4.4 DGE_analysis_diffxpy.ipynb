{
 "cells": [
  {
   "cell_type": "markdown",
   "metadata": {},
   "source": [
    "## Differential Gene Expression Analysis"
   ]
  },
  {
   "cell_type": "code",
   "execution_count": 1,
   "metadata": {},
   "outputs": [],
   "source": [
    "import os\n",
    "import numpy as np\n",
    "import pandas as pd\n",
    "import scanpy as sc\n",
    "import diffxpy.api as de"
   ]
  },
  {
   "cell_type": "code",
   "execution_count": 2,
   "metadata": {},
   "outputs": [],
   "source": [
    "adata = sc.read_h5ad('/home/glennrdx/Documents/Research_Project/processed_h5ad/crypt_enriched.h5ad')"
   ]
  },
  {
   "cell_type": "code",
   "execution_count": 3,
   "metadata": {},
   "outputs": [
    {
     "name": "stderr",
     "output_type": "stream",
     "text": [
      "/home/glennrdx/.cursor-tutor-2/.venv/lib/python3.12/site-packages/numba/core/dispatcher.py:244: UserWarning: Numba extension module 'sparse._numba_extension' failed to load due to 'ModuleNotFoundError(No module named 'numba.targets')'.\n",
      "  entrypoints.init_all()\n"
     ]
    },
    {
     "name": "stdout",
     "output_type": "stream",
     "text": [
      "training location model: False\n",
      "training scale model: True\n",
      "iter   0: ll=9987456696.159117\n",
      "iter   1: ll=9987456696.159117, converged: 0.00% (loc: 100.00%, scale update: False), in 0.00sec\n",
      "Fitting 17573 dispersion models: (progress not available with multiprocessing)"
     ]
    },
    {
     "ename": "BracketError",
     "evalue": "The algorithm terminated without finding a valid bracket. Consider trying different initial points.",
     "output_type": "error",
     "traceback": [
      "\u001b[0;31m---------------------------------------------------------------------------\u001b[0m",
      "\u001b[0;31mRemoteTraceback\u001b[0m                           Traceback (most recent call last)",
      "\u001b[0;31mRemoteTraceback\u001b[0m: \n\"\"\"\nTraceback (most recent call last):\n  File \"/usr/lib/python3.12/multiprocessing/pool.py\", line 125, in worker\n    result = (True, func(*args, **kwds))\n                    ^^^^^^^^^^^^^^^^^^^\n  File \"/usr/lib/python3.12/multiprocessing/pool.py\", line 51, in starmapstar\n    return list(itertools.starmap(args[0], args[1]))\n           ^^^^^^^^^^^^^^^^^^^^^^^^^^^^^^^^^^^^^^^^^\n  File \"/home/glennrdx/.cursor-tutor-2/.venv/lib/python3.12/site-packages/batchglm/train/numpy/base_glm/estimator.py\", line 436, in optim_handle\n    return scipy.optimize.brent(\n           ^^^^^^^^^^^^^^^^^^^^^\n  File \"/home/glennrdx/.cursor-tutor-2/.venv/lib/python3.12/site-packages/scipy/optimize/_optimize.py\", line 2625, in brent\n    res = _minimize_scalar_brent(func, brack, args, **options)\n          ^^^^^^^^^^^^^^^^^^^^^^^^^^^^^^^^^^^^^^^^^^^^^^^^^^^^\n  File \"/home/glennrdx/.cursor-tutor-2/.venv/lib/python3.12/site-packages/scipy/optimize/_optimize.py\", line 2662, in _minimize_scalar_brent\n    brent.optimize()\n  File \"/home/glennrdx/.cursor-tutor-2/.venv/lib/python3.12/site-packages/scipy/optimize/_optimize.py\", line 2432, in optimize\n    xa, xb, xc, fa, fb, fc, funcalls = self.get_bracket_info()\n                                       ^^^^^^^^^^^^^^^^^^^^^^^\n  File \"/home/glennrdx/.cursor-tutor-2/.venv/lib/python3.12/site-packages/scipy/optimize/_optimize.py\", line 2401, in get_bracket_info\n    xa, xb, xc, fa, fb, fc, funcalls = bracket(func, xa=brack[0],\n                                       ^^^^^^^^^^^^^^^^^^^^^^^^^^\n  File \"/home/glennrdx/.cursor-tutor-2/.venv/lib/python3.12/site-packages/scipy/optimize/_optimize.py\", line 3031, in bracket\n    raise e\nscipy.optimize._optimize.BracketError: The algorithm terminated without finding a valid bracket. Consider trying different initial points.\n\"\"\"",
      "\nThe above exception was the direct cause of the following exception:\n",
      "\u001b[0;31mBracketError\u001b[0m                              Traceback (most recent call last)",
      "Cell \u001b[0;32mIn[3], line 16\u001b[0m\n\u001b[1;32m     13\u001b[0m adata_subset \u001b[38;5;241m=\u001b[39m adata[adata\u001b[38;5;241m.\u001b[39mobs[\u001b[38;5;124m'\u001b[39m\u001b[38;5;124mmajor_cell_types\u001b[39m\u001b[38;5;124m'\u001b[39m] \u001b[38;5;241m==\u001b[39m cell_type]\n\u001b[1;32m     15\u001b[0m \u001b[38;5;66;03m# Perform differential expression analysis between the two conditions in 'Diet'\u001b[39;00m\n\u001b[0;32m---> 16\u001b[0m test \u001b[38;5;241m=\u001b[39m \u001b[43mde\u001b[49m\u001b[38;5;241;43m.\u001b[39;49m\u001b[43mtest\u001b[49m\u001b[38;5;241;43m.\u001b[39;49m\u001b[43mwald\u001b[49m\u001b[43m(\u001b[49m\n\u001b[1;32m     17\u001b[0m \u001b[43m    \u001b[49m\u001b[43mdata\u001b[49m\u001b[38;5;241;43m=\u001b[39;49m\u001b[43madata_subset\u001b[49m\u001b[43m,\u001b[49m\n\u001b[1;32m     18\u001b[0m \u001b[43m    \u001b[49m\u001b[43mformula_loc\u001b[49m\u001b[38;5;241;43m=\u001b[39;49m\u001b[38;5;124;43m\"\u001b[39;49m\u001b[38;5;124;43m~ 1 + Diet\u001b[39;49m\u001b[38;5;124;43m\"\u001b[39;49m\u001b[43m,\u001b[49m\n\u001b[1;32m     19\u001b[0m \u001b[43m    \u001b[49m\u001b[43mfactor_loc_totest\u001b[49m\u001b[38;5;241;43m=\u001b[39;49m\u001b[38;5;124;43m\"\u001b[39;49m\u001b[38;5;124;43mDiet\u001b[39;49m\u001b[38;5;124;43m\"\u001b[39;49m\n\u001b[1;32m     20\u001b[0m \u001b[43m\u001b[49m\u001b[43m)\u001b[49m\n\u001b[1;32m     22\u001b[0m \u001b[38;5;66;03m# Get the results as a DataFrame\u001b[39;00m\n\u001b[1;32m     23\u001b[0m result_df \u001b[38;5;241m=\u001b[39m test\u001b[38;5;241m.\u001b[39msummary()\n",
      "File \u001b[0;32m~/.cursor-tutor-2/.venv/lib/python3.12/site-packages/diffxpy/testing/tests.py:717\u001b[0m, in \u001b[0;36mwald\u001b[0;34m(data, factor_loc_totest, coef_to_test, formula_loc, formula_scale, as_numeric, init_a, init_b, gene_names, sample_description, dmat_loc, dmat_scale, constraints_loc, constraints_scale, noise_model, size_factors, batch_size, backend, train_args, training_strategy, quick_scale, dtype, **kwargs)\u001b[0m\n\u001b[1;32m    714\u001b[0m col_indices \u001b[38;5;241m=\u001b[39m np\u001b[38;5;241m.\u001b[39marray([np\u001b[38;5;241m.\u001b[39mwhere(constraints_loc_temp[x, :] \u001b[38;5;241m==\u001b[39m \u001b[38;5;241m1\u001b[39m)[\u001b[38;5;241m0\u001b[39m][\u001b[38;5;241m0\u001b[39m] \u001b[38;5;28;01mfor\u001b[39;00m x \u001b[38;5;129;01min\u001b[39;00m col_indices])\n\u001b[1;32m    716\u001b[0m \u001b[38;5;66;03m# Fit model.\u001b[39;00m\n\u001b[0;32m--> 717\u001b[0m model \u001b[38;5;241m=\u001b[39m \u001b[43m_fit\u001b[49m\u001b[43m(\u001b[49m\n\u001b[1;32m    718\u001b[0m \u001b[43m    \u001b[49m\u001b[43mnoise_model\u001b[49m\u001b[38;5;241;43m=\u001b[39;49m\u001b[43mnoise_model\u001b[49m\u001b[43m,\u001b[49m\n\u001b[1;32m    719\u001b[0m \u001b[43m    \u001b[49m\u001b[43mdata\u001b[49m\u001b[38;5;241;43m=\u001b[39;49m\u001b[43mdata\u001b[49m\u001b[43m,\u001b[49m\n\u001b[1;32m    720\u001b[0m \u001b[43m    \u001b[49m\u001b[43mdesign_loc\u001b[49m\u001b[38;5;241;43m=\u001b[39;49m\u001b[43mdesign_loc\u001b[49m\u001b[43m,\u001b[49m\n\u001b[1;32m    721\u001b[0m \u001b[43m    \u001b[49m\u001b[43mdesign_scale\u001b[49m\u001b[38;5;241;43m=\u001b[39;49m\u001b[43mdesign_scale\u001b[49m\u001b[43m,\u001b[49m\n\u001b[1;32m    722\u001b[0m \u001b[43m    \u001b[49m\u001b[43mdesign_loc_names\u001b[49m\u001b[38;5;241;43m=\u001b[39;49m\u001b[43mdesign_loc_names\u001b[49m\u001b[43m,\u001b[49m\n\u001b[1;32m    723\u001b[0m \u001b[43m    \u001b[49m\u001b[43mdesign_scale_names\u001b[49m\u001b[38;5;241;43m=\u001b[39;49m\u001b[43mdesign_scale_names\u001b[49m\u001b[43m,\u001b[49m\n\u001b[1;32m    724\u001b[0m \u001b[43m    \u001b[49m\u001b[43mconstraints_loc\u001b[49m\u001b[38;5;241;43m=\u001b[39;49m\u001b[43mconstraints_loc\u001b[49m\u001b[43m,\u001b[49m\n\u001b[1;32m    725\u001b[0m \u001b[43m    \u001b[49m\u001b[43mconstraints_scale\u001b[49m\u001b[38;5;241;43m=\u001b[39;49m\u001b[43mconstraints_scale\u001b[49m\u001b[43m,\u001b[49m\n\u001b[1;32m    726\u001b[0m \u001b[43m    \u001b[49m\u001b[43minit_a\u001b[49m\u001b[38;5;241;43m=\u001b[39;49m\u001b[43minit_a\u001b[49m\u001b[43m,\u001b[49m\n\u001b[1;32m    727\u001b[0m \u001b[43m    \u001b[49m\u001b[43minit_b\u001b[49m\u001b[38;5;241;43m=\u001b[39;49m\u001b[43minit_b\u001b[49m\u001b[43m,\u001b[49m\n\u001b[1;32m    728\u001b[0m \u001b[43m    \u001b[49m\u001b[43mgene_names\u001b[49m\u001b[38;5;241;43m=\u001b[39;49m\u001b[43mgene_names\u001b[49m\u001b[43m,\u001b[49m\n\u001b[1;32m    729\u001b[0m \u001b[43m    \u001b[49m\u001b[43msize_factors\u001b[49m\u001b[38;5;241;43m=\u001b[39;49m\u001b[43msize_factors\u001b[49m\u001b[43m,\u001b[49m\n\u001b[1;32m    730\u001b[0m \u001b[43m    \u001b[49m\u001b[43mbatch_size\u001b[49m\u001b[38;5;241;43m=\u001b[39;49m\u001b[43mbatch_size\u001b[49m\u001b[43m,\u001b[49m\n\u001b[1;32m    731\u001b[0m \u001b[43m    \u001b[49m\u001b[43mbackend\u001b[49m\u001b[38;5;241;43m=\u001b[39;49m\u001b[43mbackend\u001b[49m\u001b[43m,\u001b[49m\n\u001b[1;32m    732\u001b[0m \u001b[43m    \u001b[49m\u001b[43mtrain_args\u001b[49m\u001b[38;5;241;43m=\u001b[39;49m\u001b[43mtrain_args\u001b[49m\u001b[43m,\u001b[49m\n\u001b[1;32m    733\u001b[0m \u001b[43m    \u001b[49m\u001b[43mtraining_strategy\u001b[49m\u001b[38;5;241;43m=\u001b[39;49m\u001b[43mtraining_strategy\u001b[49m\u001b[43m,\u001b[49m\n\u001b[1;32m    734\u001b[0m \u001b[43m    \u001b[49m\u001b[43mquick_scale\u001b[49m\u001b[38;5;241;43m=\u001b[39;49m\u001b[43mquick_scale\u001b[49m\u001b[43m,\u001b[49m\n\u001b[1;32m    735\u001b[0m \u001b[43m    \u001b[49m\u001b[43mdtype\u001b[49m\u001b[38;5;241;43m=\u001b[39;49m\u001b[43mdtype\u001b[49m\u001b[43m,\u001b[49m\n\u001b[1;32m    736\u001b[0m \u001b[43m    \u001b[49m\u001b[38;5;241;43m*\u001b[39;49m\u001b[38;5;241;43m*\u001b[39;49m\u001b[43mkwargs\u001b[49m\u001b[43m,\u001b[49m\n\u001b[1;32m    737\u001b[0m \u001b[43m\u001b[49m\u001b[43m)\u001b[49m\n\u001b[1;32m    739\u001b[0m \u001b[38;5;66;03m# Prepare differential expression test.\u001b[39;00m\n\u001b[1;32m    740\u001b[0m de_test \u001b[38;5;241m=\u001b[39m DifferentialExpressionTestWald(\n\u001b[1;32m    741\u001b[0m     model_estim\u001b[38;5;241m=\u001b[39mmodel,\n\u001b[1;32m    742\u001b[0m     col_indices\u001b[38;5;241m=\u001b[39mcol_indices,\n\u001b[1;32m    743\u001b[0m     noise_model\u001b[38;5;241m=\u001b[39mnoise_model,\n\u001b[1;32m    744\u001b[0m     sample_description\u001b[38;5;241m=\u001b[39msample_description\n\u001b[1;32m    745\u001b[0m )\n",
      "File \u001b[0;32m~/.cursor-tutor-2/.venv/lib/python3.12/site-packages/diffxpy/testing/tests.py:242\u001b[0m, in \u001b[0;36m_fit\u001b[0;34m(noise_model, data, design_loc, design_scale, design_loc_names, design_scale_names, constraints_loc, constraints_scale, init_model, init_a, init_b, gene_names, size_factors, batch_size, backend, training_strategy, quick_scale, train_args, close_session, dtype)\u001b[0m\n\u001b[1;32m    239\u001b[0m \u001b[38;5;28;01melif\u001b[39;00m backend\u001b[38;5;241m.\u001b[39mlower() \u001b[38;5;129;01min\u001b[39;00m [\u001b[38;5;124m\"\u001b[39m\u001b[38;5;124mnumpy\u001b[39m\u001b[38;5;124m\"\u001b[39m]:\n\u001b[1;32m    240\u001b[0m     \u001b[38;5;28;01mpass\u001b[39;00m\n\u001b[0;32m--> 242\u001b[0m \u001b[43mestim\u001b[49m\u001b[38;5;241;43m.\u001b[39;49m\u001b[43mtrain_sequence\u001b[49m\u001b[43m(\u001b[49m\n\u001b[1;32m    243\u001b[0m \u001b[43m    \u001b[49m\u001b[43mtraining_strategy\u001b[49m\u001b[38;5;241;43m=\u001b[39;49m\u001b[43mtraining_strategy\u001b[49m\u001b[43m,\u001b[49m\n\u001b[1;32m    244\u001b[0m \u001b[43m    \u001b[49m\u001b[38;5;241;43m*\u001b[39;49m\u001b[38;5;241;43m*\u001b[39;49m\u001b[43mtrain_args\u001b[49m\n\u001b[1;32m    245\u001b[0m \u001b[43m\u001b[49m\u001b[43m)\u001b[49m\n\u001b[1;32m    247\u001b[0m \u001b[38;5;28;01mif\u001b[39;00m close_session:\n\u001b[1;32m    248\u001b[0m     estim\u001b[38;5;241m.\u001b[39mfinalize()\n",
      "File \u001b[0;32m~/.cursor-tutor-2/.venv/lib/python3.12/site-packages/batchglm/models/base/estimator.py:124\u001b[0m, in \u001b[0;36m_EstimatorBase.train_sequence\u001b[0;34m(self, training_strategy, **kwargs)\u001b[0m\n\u001b[1;32m    119\u001b[0m     \u001b[38;5;28;01mfor\u001b[39;00m x \u001b[38;5;129;01min\u001b[39;00m [xx \u001b[38;5;28;01mfor\u001b[39;00m xx \u001b[38;5;129;01min\u001b[39;00m \u001b[38;5;28mlist\u001b[39m(d\u001b[38;5;241m.\u001b[39mkeys()) \u001b[38;5;28;01mif\u001b[39;00m xx \u001b[38;5;129;01min\u001b[39;00m \u001b[38;5;28mlist\u001b[39m(kwargs\u001b[38;5;241m.\u001b[39mkeys())]:\n\u001b[1;32m    120\u001b[0m         sys\u001b[38;5;241m.\u001b[39mstdout\u001b[38;5;241m.\u001b[39mwrite(\n\u001b[1;32m    121\u001b[0m             \u001b[38;5;124m\"\u001b[39m\u001b[38;5;124moverrding \u001b[39m\u001b[38;5;132;01m%s\u001b[39;00m\u001b[38;5;124m from training strategy with value \u001b[39m\u001b[38;5;132;01m%s\u001b[39;00m\u001b[38;5;124m with new value \u001b[39m\u001b[38;5;132;01m%s\u001b[39;00m\u001b[38;5;130;01m\\n\u001b[39;00m\u001b[38;5;124m\"\u001b[39m \u001b[38;5;241m%\u001b[39m\n\u001b[1;32m    122\u001b[0m             (x, \u001b[38;5;28mstr\u001b[39m(d[x]), \u001b[38;5;28mstr\u001b[39m(kwargs[x]))\n\u001b[1;32m    123\u001b[0m         )\n\u001b[0;32m--> 124\u001b[0m \u001b[38;5;28;43mself\u001b[39;49m\u001b[38;5;241;43m.\u001b[39;49m\u001b[43mtrain\u001b[49m\u001b[43m(\u001b[49m\u001b[38;5;241;43m*\u001b[39;49m\u001b[38;5;241;43m*\u001b[39;49m\u001b[43md\u001b[49m\u001b[43m,\u001b[49m\u001b[43m \u001b[49m\u001b[38;5;241;43m*\u001b[39;49m\u001b[38;5;241;43m*\u001b[39;49m\u001b[43mkwargs\u001b[49m\u001b[43m)\u001b[49m\n\u001b[1;32m    125\u001b[0m logger\u001b[38;5;241m.\u001b[39mdebug(\u001b[38;5;124m\"\u001b[39m\u001b[38;5;124mTraining sequence #\u001b[39m\u001b[38;5;132;01m%d\u001b[39;00m\u001b[38;5;124m complete\u001b[39m\u001b[38;5;124m\"\u001b[39m, idx \u001b[38;5;241m+\u001b[39m \u001b[38;5;241m1\u001b[39m)\n",
      "File \u001b[0;32m~/.cursor-tutor-2/.venv/lib/python3.12/site-packages/batchglm/train/numpy/base_glm/estimator.py:106\u001b[0m, in \u001b[0;36mEstimatorGlm.train\u001b[0;34m(self, max_steps, method_b, update_b_freq, ftol_b, lr_b, max_iter_b, nproc, **kwargs)\u001b[0m\n\u001b[1;32m    104\u001b[0m idx_update \u001b[38;5;241m=\u001b[39m np\u001b[38;5;241m.\u001b[39mwhere(np\u001b[38;5;241m.\u001b[39mlogical_not(fully_converged))[\u001b[38;5;241m0\u001b[39m]\n\u001b[1;32m    105\u001b[0m \u001b[38;5;28;01mif\u001b[39;00m \u001b[38;5;28mself\u001b[39m\u001b[38;5;241m.\u001b[39m_train_scale:\n\u001b[0;32m--> 106\u001b[0m     b_step \u001b[38;5;241m=\u001b[39m \u001b[38;5;28;43mself\u001b[39;49m\u001b[38;5;241;43m.\u001b[39;49m\u001b[43mb_step\u001b[49m\u001b[43m(\u001b[49m\n\u001b[1;32m    107\u001b[0m \u001b[43m        \u001b[49m\u001b[43midx_update\u001b[49m\u001b[38;5;241;43m=\u001b[39;49m\u001b[43midx_update\u001b[49m\u001b[43m,\u001b[49m\n\u001b[1;32m    108\u001b[0m \u001b[43m        \u001b[49m\u001b[43mmethod\u001b[49m\u001b[38;5;241;43m=\u001b[39;49m\u001b[43mmethod_b\u001b[49m\u001b[43m,\u001b[49m\n\u001b[1;32m    109\u001b[0m \u001b[43m        \u001b[49m\u001b[43mftol\u001b[49m\u001b[38;5;241;43m=\u001b[39;49m\u001b[43mftol_b\u001b[49m\u001b[43m,\u001b[49m\n\u001b[1;32m    110\u001b[0m \u001b[43m        \u001b[49m\u001b[43mlr\u001b[49m\u001b[38;5;241;43m=\u001b[39;49m\u001b[43mlr_b\u001b[49m\u001b[43m,\u001b[49m\n\u001b[1;32m    111\u001b[0m \u001b[43m        \u001b[49m\u001b[43mmax_iter\u001b[49m\u001b[38;5;241;43m=\u001b[39;49m\u001b[43mmax_iter_b\u001b[49m\u001b[43m,\u001b[49m\n\u001b[1;32m    112\u001b[0m \u001b[43m        \u001b[49m\u001b[43mnproc\u001b[49m\u001b[38;5;241;43m=\u001b[39;49m\u001b[43mnproc\u001b[49m\n\u001b[1;32m    113\u001b[0m \u001b[43m    \u001b[49m\u001b[43m)\u001b[49m\n\u001b[1;32m    114\u001b[0m     \u001b[38;5;66;03m# Perform trial update.\u001b[39;00m\n\u001b[1;32m    115\u001b[0m     \u001b[38;5;28mself\u001b[39m\u001b[38;5;241m.\u001b[39mmodel\u001b[38;5;241m.\u001b[39mb_var \u001b[38;5;241m=\u001b[39m \u001b[38;5;28mself\u001b[39m\u001b[38;5;241m.\u001b[39mmodel\u001b[38;5;241m.\u001b[39mb_var \u001b[38;5;241m+\u001b[39m b_step\n",
      "File \u001b[0;32m~/.cursor-tutor-2/.venv/lib/python3.12/site-packages/batchglm/train/numpy/base_glm/estimator.py:346\u001b[0m, in \u001b[0;36mEstimatorGlm.b_step\u001b[0;34m(self, idx_update, method, ftol, lr, max_iter, nproc)\u001b[0m\n\u001b[1;32m    339\u001b[0m     \u001b[38;5;28;01mreturn\u001b[39;00m \u001b[38;5;28mself\u001b[39m\u001b[38;5;241m.\u001b[39m_b_step_gd(\n\u001b[1;32m    340\u001b[0m         idx_update\u001b[38;5;241m=\u001b[39midx_update,\n\u001b[1;32m    341\u001b[0m         ftol\u001b[38;5;241m=\u001b[39mftol,\n\u001b[1;32m    342\u001b[0m         lr\u001b[38;5;241m=\u001b[39mlr,\n\u001b[1;32m    343\u001b[0m         max_iter\u001b[38;5;241m=\u001b[39mmax_iter\n\u001b[1;32m    344\u001b[0m     )\n\u001b[1;32m    345\u001b[0m \u001b[38;5;28;01melse\u001b[39;00m:\n\u001b[0;32m--> 346\u001b[0m     \u001b[38;5;28;01mreturn\u001b[39;00m \u001b[38;5;28;43mself\u001b[39;49m\u001b[38;5;241;43m.\u001b[39;49m\u001b[43m_b_step_loop\u001b[49m\u001b[43m(\u001b[49m\n\u001b[1;32m    347\u001b[0m \u001b[43m        \u001b[49m\u001b[43midx_update\u001b[49m\u001b[38;5;241;43m=\u001b[39;49m\u001b[43midx_update\u001b[49m\u001b[43m,\u001b[49m\n\u001b[1;32m    348\u001b[0m \u001b[43m        \u001b[49m\u001b[43mmethod\u001b[49m\u001b[38;5;241;43m=\u001b[39;49m\u001b[43mmethod\u001b[49m\u001b[43m,\u001b[49m\n\u001b[1;32m    349\u001b[0m \u001b[43m        \u001b[49m\u001b[43mftol\u001b[49m\u001b[38;5;241;43m=\u001b[39;49m\u001b[43mftol\u001b[49m\u001b[43m,\u001b[49m\n\u001b[1;32m    350\u001b[0m \u001b[43m        \u001b[49m\u001b[43mmax_iter\u001b[49m\u001b[38;5;241;43m=\u001b[39;49m\u001b[43mmax_iter\u001b[49m\u001b[43m,\u001b[49m\n\u001b[1;32m    351\u001b[0m \u001b[43m        \u001b[49m\u001b[43mnproc\u001b[49m\u001b[38;5;241;43m=\u001b[39;49m\u001b[43mnproc\u001b[49m\n\u001b[1;32m    352\u001b[0m \u001b[43m    \u001b[49m\u001b[43m)\u001b[49m\n",
      "File \u001b[0;32m~/.cursor-tutor-2/.venv/lib/python3.12/site-packages/batchglm/train/numpy/base_glm/estimator.py:469\u001b[0m, in \u001b[0;36mEstimatorGlm._b_step_loop\u001b[0;34m(self, idx_update, method, max_iter, ftol, nproc)\u001b[0m\n\u001b[1;32m    467\u001b[0m     x \u001b[38;5;241m=\u001b[39m \u001b[38;5;28mself\u001b[39m\u001b[38;5;241m.\u001b[39mx\u001b[38;5;241m.\u001b[39mcompute()\n\u001b[1;32m    468\u001b[0m     eta_loc \u001b[38;5;241m=\u001b[39m \u001b[38;5;28mself\u001b[39m\u001b[38;5;241m.\u001b[39mmodel\u001b[38;5;241m.\u001b[39meta_loc\u001b[38;5;241m.\u001b[39mcompute()\n\u001b[0;32m--> 469\u001b[0m     results \u001b[38;5;241m=\u001b[39m \u001b[43mpool\u001b[49m\u001b[38;5;241;43m.\u001b[39;49m\u001b[43mstarmap\u001b[49m\u001b[43m(\u001b[49m\n\u001b[1;32m    470\u001b[0m \u001b[43m        \u001b[49m\u001b[38;5;28;43mself\u001b[39;49m\u001b[38;5;241;43m.\u001b[39;49m\u001b[43moptim_handle\u001b[49m\u001b[43m,\u001b[49m\n\u001b[1;32m    471\u001b[0m \u001b[43m        \u001b[49m\u001b[43m[\u001b[49m\u001b[43m(\u001b[49m\n\u001b[1;32m    472\u001b[0m \u001b[43m            \u001b[49m\u001b[43mb_var\u001b[49m\u001b[43m[\u001b[49m\u001b[38;5;241;43m0\u001b[39;49m\u001b[43m,\u001b[49m\u001b[43m \u001b[49m\u001b[43mj\u001b[49m\u001b[43m]\u001b[49m\u001b[43m,\u001b[49m\n\u001b[1;32m    473\u001b[0m \u001b[43m            \u001b[49m\u001b[43mx\u001b[49m\u001b[43m[\u001b[49m\u001b[43m:\u001b[49m\u001b[43m,\u001b[49m\u001b[43m \u001b[49m\u001b[43m[\u001b[49m\u001b[43mj\u001b[49m\u001b[43m]\u001b[49m\u001b[43m]\u001b[49m\u001b[43m,\u001b[49m\n\u001b[1;32m    474\u001b[0m \u001b[43m            \u001b[49m\u001b[43meta_loc\u001b[49m\u001b[43m[\u001b[49m\u001b[43m:\u001b[49m\u001b[43m,\u001b[49m\u001b[43m \u001b[49m\u001b[43m[\u001b[49m\u001b[43mj\u001b[49m\u001b[43m]\u001b[49m\u001b[43m]\u001b[49m\u001b[43m,\u001b[49m\n\u001b[1;32m    475\u001b[0m \u001b[43m            \u001b[49m\u001b[43mxh_scale\u001b[49m\u001b[43m,\u001b[49m\n\u001b[1;32m    476\u001b[0m \u001b[43m            \u001b[49m\u001b[43mmax_iter\u001b[49m\u001b[43m,\u001b[49m\n\u001b[1;32m    477\u001b[0m \u001b[43m            \u001b[49m\u001b[43mftol\u001b[49m\n\u001b[1;32m    478\u001b[0m \u001b[43m        \u001b[49m\u001b[43m)\u001b[49m\u001b[43m \u001b[49m\u001b[38;5;28;43;01mfor\u001b[39;49;00m\u001b[43m \u001b[49m\u001b[43mj\u001b[49m\u001b[43m \u001b[49m\u001b[38;5;129;43;01min\u001b[39;49;00m\u001b[43m \u001b[49m\u001b[43midx_update\u001b[49m\u001b[43m]\u001b[49m\n\u001b[1;32m    479\u001b[0m \u001b[43m    \u001b[49m\u001b[43m)\u001b[49m\n\u001b[1;32m    480\u001b[0m     pool\u001b[38;5;241m.\u001b[39mclose()\n\u001b[1;32m    481\u001b[0m delta_theta[\u001b[38;5;241m0\u001b[39m, idx_update] \u001b[38;5;241m=\u001b[39m np\u001b[38;5;241m.\u001b[39marray([x[\u001b[38;5;241m0\u001b[39m] \u001b[38;5;28;01mfor\u001b[39;00m x \u001b[38;5;129;01min\u001b[39;00m results])\n",
      "File \u001b[0;32m/usr/lib/python3.12/multiprocessing/pool.py:375\u001b[0m, in \u001b[0;36mPool.starmap\u001b[0;34m(self, func, iterable, chunksize)\u001b[0m\n\u001b[1;32m    369\u001b[0m \u001b[38;5;28;01mdef\u001b[39;00m \u001b[38;5;21mstarmap\u001b[39m(\u001b[38;5;28mself\u001b[39m, func, iterable, chunksize\u001b[38;5;241m=\u001b[39m\u001b[38;5;28;01mNone\u001b[39;00m):\n\u001b[1;32m    370\u001b[0m \u001b[38;5;250m    \u001b[39m\u001b[38;5;124;03m'''\u001b[39;00m\n\u001b[1;32m    371\u001b[0m \u001b[38;5;124;03m    Like `map()` method but the elements of the `iterable` are expected to\u001b[39;00m\n\u001b[1;32m    372\u001b[0m \u001b[38;5;124;03m    be iterables as well and will be unpacked as arguments. Hence\u001b[39;00m\n\u001b[1;32m    373\u001b[0m \u001b[38;5;124;03m    `func` and (a, b) becomes func(a, b).\u001b[39;00m\n\u001b[1;32m    374\u001b[0m \u001b[38;5;124;03m    '''\u001b[39;00m\n\u001b[0;32m--> 375\u001b[0m     \u001b[38;5;28;01mreturn\u001b[39;00m \u001b[38;5;28;43mself\u001b[39;49m\u001b[38;5;241;43m.\u001b[39;49m\u001b[43m_map_async\u001b[49m\u001b[43m(\u001b[49m\u001b[43mfunc\u001b[49m\u001b[43m,\u001b[49m\u001b[43m \u001b[49m\u001b[43miterable\u001b[49m\u001b[43m,\u001b[49m\u001b[43m \u001b[49m\u001b[43mstarmapstar\u001b[49m\u001b[43m,\u001b[49m\u001b[43m \u001b[49m\u001b[43mchunksize\u001b[49m\u001b[43m)\u001b[49m\u001b[38;5;241;43m.\u001b[39;49m\u001b[43mget\u001b[49m\u001b[43m(\u001b[49m\u001b[43m)\u001b[49m\n",
      "File \u001b[0;32m/usr/lib/python3.12/multiprocessing/pool.py:774\u001b[0m, in \u001b[0;36mApplyResult.get\u001b[0;34m(self, timeout)\u001b[0m\n\u001b[1;32m    772\u001b[0m     \u001b[38;5;28;01mreturn\u001b[39;00m \u001b[38;5;28mself\u001b[39m\u001b[38;5;241m.\u001b[39m_value\n\u001b[1;32m    773\u001b[0m \u001b[38;5;28;01melse\u001b[39;00m:\n\u001b[0;32m--> 774\u001b[0m     \u001b[38;5;28;01mraise\u001b[39;00m \u001b[38;5;28mself\u001b[39m\u001b[38;5;241m.\u001b[39m_value\n",
      "\u001b[0;31mBracketError\u001b[0m: The algorithm terminated without finding a valid bracket. Consider trying different initial points."
     ]
    }
   ],
   "source": [
    "# Define the output directory\n",
    "output_dir = \"/home/glennrdx/Documents/Research_Project/scRNAseq-MSc-Analysis/upstream_analysis/crypt/differential_expression_diffxpy\"\n",
    "\n",
    "# List of unique cell types in your data\n",
    "cell_types = adata.obs['major_cell_types'].unique()\n",
    "\n",
    "# Loop through each cell type and perform differential expression analysis\n",
    "for cell_type in cell_types:\n",
    "    # Create an empty DataFrame to store all results\n",
    "    results = pd.DataFrame()\n",
    "\n",
    "    # Subset the AnnData object to include only the cells of the current cell type\n",
    "    adata_subset = adata[adata.obs['major_cell_types'] == cell_type]\n",
    "\n",
    "    # Perform differential expression analysis between the two conditions in 'Diet'\n",
    "    test = de.test.wald(\n",
    "        data=adata_subset,\n",
    "        formula_loc=\"~ 1 + Diet\",\n",
    "        factor_loc_totest=\"Diet\"\n",
    "    )\n",
    "    \n",
    "    # Get the results as a DataFrame\n",
    "    result_df = test.summary()\n",
    "    \n",
    "    # Add a column for the cell type\n",
    "    result_df['cell_type'] = cell_type\n",
    "    \n",
    "    # Define the file path for this cell type's results\n",
    "    file_path = os.path.join(output_dir, f\"DGE_analysis_diffxpy_results_{cell_type}.csv\")\n",
    "    \n",
    "    # Save the results to a separate CSV file for each cell type\n",
    "    result_df.to_csv(file_path, index=False)\n",
    "\n",
    "print(\"Differential expression analysis completed for all cell types.\")\n",
    "print(f\"Results saved in the directory: {output_dir}\")"
   ]
  },
  {
   "cell_type": "code",
   "execution_count": null,
   "metadata": {},
   "outputs": [],
   "source": []
  }
 ],
 "metadata": {
  "kernelspec": {
   "display_name": "Python 3",
   "language": "python",
   "name": "python3"
  },
  "language_info": {
   "codemirror_mode": {
    "name": "ipython",
    "version": 3
   },
   "file_extension": ".py",
   "mimetype": "text/x-python",
   "name": "python",
   "nbconvert_exporter": "python",
   "pygments_lexer": "ipython3",
   "version": "3.12.3"
  }
 },
 "nbformat": 4,
 "nbformat_minor": 2
}
