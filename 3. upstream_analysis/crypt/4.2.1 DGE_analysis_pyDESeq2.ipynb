{
 "cells": [
  {
   "cell_type": "code",
   "execution_count": 2,
   "metadata": {},
   "outputs": [
    {
     "name": "stdout",
     "output_type": "stream",
     "text": [
      "Collecting pydeseq2\n",
      "  Downloading pydeseq2-0.4.11-py3-none-any.whl.metadata (7.0 kB)\n",
      "Requirement already satisfied: anndata>=0.8.0 in /home/glennrdx/virtual_envs/.venv/lib/python3.12/site-packages (from pydeseq2) (0.10.8)\n",
      "Requirement already satisfied: numpy>=1.23.0 in /home/glennrdx/virtual_envs/.venv/lib/python3.12/site-packages (from pydeseq2) (1.26.4)\n",
      "Requirement already satisfied: pandas>=1.4.0 in /home/glennrdx/virtual_envs/.venv/lib/python3.12/site-packages (from pydeseq2) (2.2.2)\n",
      "Requirement already satisfied: scikit-learn>=1.1.0 in /home/glennrdx/virtual_envs/.venv/lib/python3.12/site-packages (from pydeseq2) (1.5.1)\n",
      "Requirement already satisfied: scipy>=1.11.0 in /home/glennrdx/virtual_envs/.venv/lib/python3.12/site-packages (from pydeseq2) (1.14.1)\n",
      "Requirement already satisfied: matplotlib>=3.6.2 in /home/glennrdx/virtual_envs/.venv/lib/python3.12/site-packages (from pydeseq2) (3.9.2)\n",
      "Requirement already satisfied: array-api-compat!=1.5,>1.4 in /home/glennrdx/virtual_envs/.venv/lib/python3.12/site-packages (from anndata>=0.8.0->pydeseq2) (1.8)\n",
      "Requirement already satisfied: h5py>=3.1 in /home/glennrdx/virtual_envs/.venv/lib/python3.12/site-packages (from anndata>=0.8.0->pydeseq2) (3.11.0)\n",
      "Requirement already satisfied: natsort in /home/glennrdx/virtual_envs/.venv/lib/python3.12/site-packages (from anndata>=0.8.0->pydeseq2) (8.4.0)\n",
      "Requirement already satisfied: packaging>=20.0 in /home/glennrdx/virtual_envs/.venv/lib/python3.12/site-packages (from anndata>=0.8.0->pydeseq2) (24.1)\n",
      "Requirement already satisfied: contourpy>=1.0.1 in /home/glennrdx/virtual_envs/.venv/lib/python3.12/site-packages (from matplotlib>=3.6.2->pydeseq2) (1.2.1)\n",
      "Requirement already satisfied: cycler>=0.10 in /home/glennrdx/virtual_envs/.venv/lib/python3.12/site-packages (from matplotlib>=3.6.2->pydeseq2) (0.12.1)\n",
      "Requirement already satisfied: fonttools>=4.22.0 in /home/glennrdx/virtual_envs/.venv/lib/python3.12/site-packages (from matplotlib>=3.6.2->pydeseq2) (4.53.1)\n",
      "Requirement already satisfied: kiwisolver>=1.3.1 in /home/glennrdx/virtual_envs/.venv/lib/python3.12/site-packages (from matplotlib>=3.6.2->pydeseq2) (1.4.5)\n",
      "Requirement already satisfied: pillow>=8 in /home/glennrdx/virtual_envs/.venv/lib/python3.12/site-packages (from matplotlib>=3.6.2->pydeseq2) (10.4.0)\n",
      "Requirement already satisfied: pyparsing>=2.3.1 in /home/glennrdx/virtual_envs/.venv/lib/python3.12/site-packages (from matplotlib>=3.6.2->pydeseq2) (3.1.4)\n",
      "Requirement already satisfied: python-dateutil>=2.7 in /home/glennrdx/virtual_envs/.venv/lib/python3.12/site-packages (from matplotlib>=3.6.2->pydeseq2) (2.9.0.post0)\n",
      "Requirement already satisfied: pytz>=2020.1 in /home/glennrdx/virtual_envs/.venv/lib/python3.12/site-packages (from pandas>=1.4.0->pydeseq2) (2024.1)\n",
      "Requirement already satisfied: tzdata>=2022.7 in /home/glennrdx/virtual_envs/.venv/lib/python3.12/site-packages (from pandas>=1.4.0->pydeseq2) (2024.1)\n",
      "Requirement already satisfied: joblib>=1.2.0 in /home/glennrdx/virtual_envs/.venv/lib/python3.12/site-packages (from scikit-learn>=1.1.0->pydeseq2) (1.4.2)\n",
      "Requirement already satisfied: threadpoolctl>=3.1.0 in /home/glennrdx/virtual_envs/.venv/lib/python3.12/site-packages (from scikit-learn>=1.1.0->pydeseq2) (3.5.0)\n",
      "Requirement already satisfied: six>=1.5 in /home/glennrdx/virtual_envs/.venv/lib/python3.12/site-packages (from python-dateutil>=2.7->matplotlib>=3.6.2->pydeseq2) (1.16.0)\n",
      "Downloading pydeseq2-0.4.11-py3-none-any.whl (45 kB)\n",
      "Installing collected packages: pydeseq2\n",
      "Successfully installed pydeseq2-0.4.11\n"
     ]
    }
   ],
   "source": [
    "!pip install pydeseq2"
   ]
  },
  {
   "cell_type": "code",
   "execution_count": 4,
   "metadata": {},
   "outputs": [
    {
     "name": "stderr",
     "output_type": "stream",
     "text": [
      "Fitting size factors...\n",
      "... done in 15.30 seconds.\n",
      "\n",
      "Fitting dispersions...\n",
      "... done in 104.59 seconds.\n",
      "\n",
      "Fitting dispersion trend curve...\n",
      "/home/glennrdx/virtual_envs/.venv/lib/python3.12/site-packages/pydeseq2/dds.py:715: UserWarning: The dispersion trend curve fitting did not converge. Switching to a mean-based dispersion trend.\n",
      "  self._fit_parametric_dispersion_trend(vst)\n",
      "... done in 0.82 seconds.\n",
      "\n",
      "Fitting MAP dispersions...\n",
      "... done in 292.58 seconds.\n",
      "\n",
      "Fitting LFCs...\n",
      "... done in 71.84 seconds.\n",
      "\n",
      "Calculating cook's distance...\n"
     ]
    }
   ],
   "source": [
    "import scanpy as sc\n",
    "import pandas as pd\n",
    "import numpy as np\n",
    "import os\n",
    "from pydeseq2.dds import DeseqDataSet\n",
    "from pydeseq2.ds import DeseqStats\n",
    "from pydeseq2.default_inference import DefaultInference\n",
    "\n",
    "# Load your AnnData object\n",
    "adata = sc.read_h5ad('/home/glennrdx/Documents/Research_Project/processed_h5ad/crypt_enriched_final.h5ad')\n",
    "\n",
    "# Define the directory path where the CSVs will be saved\n",
    "output_dir = \"/home/glennrdx/Documents/Research_Project/scRNAseq-MSc-Analysis/upstream_analysis/crypt/differential_expression_pydeseq2\"\n",
    "os.makedirs(output_dir, exist_ok=True)\n",
    "\n",
    "# Data preparation\n",
    "# Round the count matrix to 0 decimals and convert to integers\n",
    "counts_matrix = np.round(adata.X.toarray(), decimals=0).astype(int)\n",
    "\n",
    "counts_df = pd.DataFrame(counts_matrix, columns=adata.var_names, index=adata.obs_names)\n",
    "metadata = adata.obs[['Diet', 'leiden15']]\n",
    "\n",
    "# Get the unique cluster identifiers\n",
    "leiden15 = adata.obs['leiden15'].unique()\n",
    "\n",
    "# Perform differential expression analysis for each cluster\n",
    "for cluster in leiden15:\n",
    "    # Subset the data for the cluster\n",
    "    cluster_mask = metadata['leiden15'] == cluster\n",
    "    counts_cluster = counts_df[cluster_mask]\n",
    "    metadata_cluster = metadata[cluster_mask]\n",
    "    \n",
    "    # Create DeseqDataSet\n",
    "    dds = DeseqDataSet(\n",
    "        counts=counts_cluster,\n",
    "        metadata=metadata_cluster,\n",
    "        design_factors=\"Diet\",\n",
    "        refit_cooks=True,\n",
    "        inference=DefaultInference(n_cpus=8)\n",
    "    )\n",
    "    \n",
    "    # Fit dispersions and LFCs\n",
    "    dds.deseq2()\n",
    "    \n",
    "    # Perform statistical analysis\n",
    "    stat_res = DeseqStats(dds, contrast=[\"Diet\", \"HFD\", \"CD\"])\n",
    "    stat_res.summary()\n",
    "    \n",
    "    # Process results\n",
    "    results = stat_res.results_df.reset_index()\n",
    "    results = results.rename(columns={\n",
    "        'index': '',\n",
    "        'log2FoldChange': 'logFC',\n",
    "        'pvalue': 'P.Value',\n",
    "        'padj': 'adj.P.Val'\n",
    "    })\n",
    "    results['AveExpr'] = np.nan\n",
    "    results['t'] = np.nan\n",
    "    results['B'] = np.nan\n",
    "    results['abs.log2FC'] = abs(results['logFC'])\n",
    "    \n",
    "    # Reorder columns to match the original output\n",
    "    results = results[[\n",
    "        '', 'logFC', 'AveExpr', 't', 'P.Value', 'adj.P.Val', 'B', 'abs.log2FC'\n",
    "    ]]\n",
    "    \n",
    "    # Save results\n",
    "    file_path = os.path.join(output_dir, f'diff_exp_CD_vs_HFD_{cluster}.csv')\n",
    "    results.to_csv(file_path, index=False)\n",
    "    print(f\"Saved results for cluster {cluster} to {file_path}\")"
   ]
  },
  {
   "cell_type": "code",
   "execution_count": 7,
   "metadata": {},
   "outputs": [],
   "source": [
    "import scanpy as sc\n",
    "import pandas as pd\n",
    "import numpy as np\n",
    "import os\n",
    "import matplotlib as plt \n",
    "\n",
    "# Load your AnnData object\n",
    "adata = sc.read_h5ad('/home/glennrdx/Documents/Research_Project/processed_h5ad/crypt_enriched_final.h5ad')"
   ]
  },
  {
   "cell_type": "code",
   "execution_count": 8,
   "metadata": {},
   "outputs": [],
   "source": [
    "def plot_gene_heatmap_umap(adata, genes, size = 30):\n",
    "    \"\"\"\n",
    "    Plot heatmap UMAPs for a list of genes in an AnnData object.\n",
    "\n",
    "    Parameters:\n",
    "    -----------\n",
    "    adata : AnnData\n",
    "        The AnnData object containing the single-cell data.\n",
    "    genes : list\n",
    "        A list of gene names to plot.\n",
    "\n",
    "    Returns:\n",
    "    --------\n",
    "    None. The function displays the plots.\n",
    "    \"\"\"\n",
    "    num_genes = len(genes)\n",
    "    fig, axes = plt.subplots(1, num_genes, figsize=(6*num_genes, 6))\n",
    "    \n",
    "    if num_genes == 1:\n",
    "        axes = [axes]\n",
    "    \n",
    "    for ax, gene in zip(axes, genes):\n",
    "        sc.pl.umap(\n",
    "            adata,\n",
    "            color=gene,\n",
    "            title=f'UMAP Heatmap - {gene}',\n",
    "            frameon=False,\n",
    "            ax=ax,\n",
    "            size=size,\n",
    "            color_map='viridis',\n",
    "            show=False\n",
    "        )\n",
    "        \n",
    "        ax.set_facecolor('black')\n",
    "    \n",
    "    plt.tight_layout()\n",
    "    plt.show()\n",
    "\n",
    "# Example usage:\n",
    "# plot_gene_heatmap_umap(adata, ['Gene1', 'Gene2', 'Gene3'])"
   ]
  },
  {
   "cell_type": "code",
   "execution_count": 6,
   "metadata": {},
   "outputs": [
    {
     "ename": "AttributeError",
     "evalue": "module 'matplotlib' has no attribute 'subplots'",
     "output_type": "error",
     "traceback": [
      "\u001b[0;31m---------------------------------------------------------------------------\u001b[0m",
      "\u001b[0;31mAttributeError\u001b[0m                            Traceback (most recent call last)",
      "Cell \u001b[0;32mIn[6], line 1\u001b[0m\n\u001b[0;32m----> 1\u001b[0m \u001b[43mplot_gene_heatmap_umap\u001b[49m\u001b[43m(\u001b[49m\u001b[43madata\u001b[49m\u001b[43m,\u001b[49m\u001b[43m \u001b[49m\u001b[43m[\u001b[49m\u001b[38;5;124;43m'\u001b[39;49m\u001b[38;5;124;43mPdlim2\u001b[39;49m\u001b[38;5;124;43m'\u001b[39;49m\u001b[43m]\u001b[49m\u001b[43m)\u001b[49m\n",
      "Cell \u001b[0;32mIn[5], line 17\u001b[0m, in \u001b[0;36mplot_gene_heatmap_umap\u001b[0;34m(adata, genes, size)\u001b[0m\n\u001b[1;32m      2\u001b[0m \u001b[38;5;250m\u001b[39m\u001b[38;5;124;03m\"\"\"\u001b[39;00m\n\u001b[1;32m      3\u001b[0m \u001b[38;5;124;03mPlot heatmap UMAPs for a list of genes in an AnnData object.\u001b[39;00m\n\u001b[1;32m      4\u001b[0m \n\u001b[0;32m   (...)\u001b[0m\n\u001b[1;32m     14\u001b[0m \u001b[38;5;124;03mNone. The function displays the plots.\u001b[39;00m\n\u001b[1;32m     15\u001b[0m \u001b[38;5;124;03m\"\"\"\u001b[39;00m\n\u001b[1;32m     16\u001b[0m num_genes \u001b[38;5;241m=\u001b[39m \u001b[38;5;28mlen\u001b[39m(genes)\n\u001b[0;32m---> 17\u001b[0m fig, axes \u001b[38;5;241m=\u001b[39m \u001b[43mplt\u001b[49m\u001b[38;5;241;43m.\u001b[39;49m\u001b[43msubplots\u001b[49m(\u001b[38;5;241m1\u001b[39m, num_genes, figsize\u001b[38;5;241m=\u001b[39m(\u001b[38;5;241m6\u001b[39m\u001b[38;5;241m*\u001b[39mnum_genes, \u001b[38;5;241m6\u001b[39m))\n\u001b[1;32m     19\u001b[0m \u001b[38;5;28;01mif\u001b[39;00m num_genes \u001b[38;5;241m==\u001b[39m \u001b[38;5;241m1\u001b[39m:\n\u001b[1;32m     20\u001b[0m     axes \u001b[38;5;241m=\u001b[39m [axes]\n",
      "File \u001b[0;32m~/virtual_envs/.venv/lib/python3.12/site-packages/matplotlib/_api/__init__.py:217\u001b[0m, in \u001b[0;36mcaching_module_getattr.<locals>.__getattr__\u001b[0;34m(name)\u001b[0m\n\u001b[1;32m    215\u001b[0m \u001b[38;5;28;01mif\u001b[39;00m name \u001b[38;5;129;01min\u001b[39;00m props:\n\u001b[1;32m    216\u001b[0m     \u001b[38;5;28;01mreturn\u001b[39;00m props[name]\u001b[38;5;241m.\u001b[39m\u001b[38;5;21m__get__\u001b[39m(instance)\n\u001b[0;32m--> 217\u001b[0m \u001b[38;5;28;01mraise\u001b[39;00m \u001b[38;5;167;01mAttributeError\u001b[39;00m(\n\u001b[1;32m    218\u001b[0m     \u001b[38;5;124mf\u001b[39m\u001b[38;5;124m\"\u001b[39m\u001b[38;5;124mmodule \u001b[39m\u001b[38;5;132;01m{\u001b[39;00m\u001b[38;5;28mcls\u001b[39m\u001b[38;5;241m.\u001b[39m\u001b[38;5;18m__module__\u001b[39m\u001b[38;5;132;01m!r}\u001b[39;00m\u001b[38;5;124m has no attribute \u001b[39m\u001b[38;5;132;01m{\u001b[39;00mname\u001b[38;5;132;01m!r}\u001b[39;00m\u001b[38;5;124m\"\u001b[39m)\n",
      "\u001b[0;31mAttributeError\u001b[0m: module 'matplotlib' has no attribute 'subplots'"
     ]
    }
   ],
   "source": [
    "plot_gene_heatmap_umap(adata, ['Pdlim2'])"
   ]
  }
 ],
 "metadata": {
  "kernelspec": {
   "display_name": ".venv",
   "language": "python",
   "name": "python3"
  },
  "language_info": {
   "codemirror_mode": {
    "name": "ipython",
    "version": 3
   },
   "file_extension": ".py",
   "mimetype": "text/x-python",
   "name": "python",
   "nbconvert_exporter": "python",
   "pygments_lexer": "ipython3",
   "version": "3.12.3"
  }
 },
 "nbformat": 4,
 "nbformat_minor": 2
}
