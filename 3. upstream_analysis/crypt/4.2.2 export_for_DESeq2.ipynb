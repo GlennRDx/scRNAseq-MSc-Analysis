{
 "cells": [
  {
   "cell_type": "code",
   "execution_count": 9,
   "metadata": {},
   "outputs": [],
   "source": [
    "import scanpy as sc\n",
    "import pandas as pd\n",
    "import numpy as np\n",
    "import os\n",
    "\n",
    "# Load the H5AD file\n",
    "adata = sc.read_h5ad('/home/glennrdx/Documents/Research_Project/processed_h5ad/crypt_enriched_final.h5ad')"
   ]
  },
  {
   "cell_type": "code",
   "execution_count": 11,
   "metadata": {},
   "outputs": [
    {
     "name": "stderr",
     "output_type": "stream",
     "text": [
      "/tmp/ipykernel_26061/4018814899.py:21: FutureWarning: The default of observed=False is deprecated and will be changed to True in a future version of pandas. Pass observed=False to retain current behavior or observed=True to adopt the future default and silence this warning.\n",
      "  count_matrix = count_matrix.groupby(adata_subset.obs['Sample']).sum()\n",
      "/tmp/ipykernel_26061/4018814899.py:21: FutureWarning: The default of observed=False is deprecated and will be changed to True in a future version of pandas. Pass observed=False to retain current behavior or observed=True to adopt the future default and silence this warning.\n",
      "  count_matrix = count_matrix.groupby(adata_subset.obs['Sample']).sum()\n",
      "/tmp/ipykernel_26061/4018814899.py:21: FutureWarning: The default of observed=False is deprecated and will be changed to True in a future version of pandas. Pass observed=False to retain current behavior or observed=True to adopt the future default and silence this warning.\n",
      "  count_matrix = count_matrix.groupby(adata_subset.obs['Sample']).sum()\n",
      "/tmp/ipykernel_26061/4018814899.py:21: FutureWarning: The default of observed=False is deprecated and will be changed to True in a future version of pandas. Pass observed=False to retain current behavior or observed=True to adopt the future default and silence this warning.\n",
      "  count_matrix = count_matrix.groupby(adata_subset.obs['Sample']).sum()\n",
      "/tmp/ipykernel_26061/4018814899.py:21: FutureWarning: The default of observed=False is deprecated and will be changed to True in a future version of pandas. Pass observed=False to retain current behavior or observed=True to adopt the future default and silence this warning.\n",
      "  count_matrix = count_matrix.groupby(adata_subset.obs['Sample']).sum()\n",
      "/tmp/ipykernel_26061/4018814899.py:21: FutureWarning: The default of observed=False is deprecated and will be changed to True in a future version of pandas. Pass observed=False to retain current behavior or observed=True to adopt the future default and silence this warning.\n",
      "  count_matrix = count_matrix.groupby(adata_subset.obs['Sample']).sum()\n",
      "/tmp/ipykernel_26061/4018814899.py:21: FutureWarning: The default of observed=False is deprecated and will be changed to True in a future version of pandas. Pass observed=False to retain current behavior or observed=True to adopt the future default and silence this warning.\n",
      "  count_matrix = count_matrix.groupby(adata_subset.obs['Sample']).sum()\n",
      "/tmp/ipykernel_26061/4018814899.py:21: FutureWarning: The default of observed=False is deprecated and will be changed to True in a future version of pandas. Pass observed=False to retain current behavior or observed=True to adopt the future default and silence this warning.\n",
      "  count_matrix = count_matrix.groupby(adata_subset.obs['Sample']).sum()\n",
      "/tmp/ipykernel_26061/4018814899.py:21: FutureWarning: The default of observed=False is deprecated and will be changed to True in a future version of pandas. Pass observed=False to retain current behavior or observed=True to adopt the future default and silence this warning.\n",
      "  count_matrix = count_matrix.groupby(adata_subset.obs['Sample']).sum()\n",
      "/tmp/ipykernel_26061/4018814899.py:21: FutureWarning: The default of observed=False is deprecated and will be changed to True in a future version of pandas. Pass observed=False to retain current behavior or observed=True to adopt the future default and silence this warning.\n",
      "  count_matrix = count_matrix.groupby(adata_subset.obs['Sample']).sum()\n",
      "/tmp/ipykernel_26061/4018814899.py:21: FutureWarning: The default of observed=False is deprecated and will be changed to True in a future version of pandas. Pass observed=False to retain current behavior or observed=True to adopt the future default and silence this warning.\n",
      "  count_matrix = count_matrix.groupby(adata_subset.obs['Sample']).sum()\n",
      "/tmp/ipykernel_26061/4018814899.py:21: FutureWarning: The default of observed=False is deprecated and will be changed to True in a future version of pandas. Pass observed=False to retain current behavior or observed=True to adopt the future default and silence this warning.\n",
      "  count_matrix = count_matrix.groupby(adata_subset.obs['Sample']).sum()\n"
     ]
    },
    {
     "name": "stdout",
     "output_type": "stream",
     "text": [
      "Files created successfully for each cell type.\n"
     ]
    }
   ],
   "source": [
    "# Get unique cell types\n",
    "cell_types = adata.obs['leiden15'].unique()\n",
    "\n",
    "# Create main directory\n",
    "os.makedirs(\"DESeq2_data_files\", exist_ok=True)\n",
    "\n",
    "for cell_type in cell_types:\n",
    "    # Create directory for each cell type\n",
    "    cell_type_dir = os.path.join(\"DESeq2_data_files\", cell_type)\n",
    "    os.makedirs(cell_type_dir, exist_ok=True)\n",
    "    \n",
    "    # Filter data for the current cell type\n",
    "    adata_subset = adata[adata.obs['leiden15'] == cell_type]\n",
    "    \n",
    "    # Create count matrix\n",
    "    count_matrix = pd.DataFrame(adata_subset.X.toarray(), \n",
    "                                index=adata_subset.obs_names, \n",
    "                                columns=adata_subset.var_names)\n",
    "    \n",
    "    # Aggregate counts by sample\n",
    "    count_matrix = count_matrix.groupby(adata_subset.obs['Sample'], observed = True).sum()\n",
    "    \n",
    "    # Save count matrix\n",
    "    count_matrix.to_csv(os.path.join(cell_type_dir, \"count_matrix.csv\"))\n",
    "    \n",
    "    # Create metadata\n",
    "    metadata = adata_subset.obs[['Sample', 'Diet']].drop_duplicates()\n",
    "    metadata = metadata.set_index('Sample')\n",
    "    \n",
    "    # Save metadata\n",
    "    metadata.to_csv(os.path.join(cell_type_dir, \"metadata.csv\"))\n",
    "\n",
    "    print(cell_type)\n",
    "\n",
    "print(\"Done!\")"
   ]
  }
 ],
 "metadata": {
  "kernelspec": {
   "display_name": ".venv",
   "language": "python",
   "name": "python3"
  },
  "language_info": {
   "codemirror_mode": {
    "name": "ipython",
    "version": 3
   },
   "file_extension": ".py",
   "mimetype": "text/x-python",
   "name": "python",
   "nbconvert_exporter": "python",
   "pygments_lexer": "ipython3",
   "version": "3.12.3"
  }
 },
 "nbformat": 4,
 "nbformat_minor": 2
}
