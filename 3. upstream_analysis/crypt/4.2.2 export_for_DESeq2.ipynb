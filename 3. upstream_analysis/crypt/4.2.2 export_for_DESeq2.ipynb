{
 "cells": [
  {
   "cell_type": "code",
   "execution_count": 2,
   "metadata": {},
   "outputs": [],
   "source": [
    "import scanpy as sc\n",
    "import pandas as pd\n",
    "import numpy as np\n",
    "import os\n",
    "\n",
    "# Load the H5AD file\n",
    "adata = sc.read_h5ad('/home/glennrdx/Documents/Research_Project/processed_h5ad/crypt_enriched_final.h5ad')"
   ]
  },
  {
   "cell_type": "code",
   "execution_count": 6,
   "metadata": {},
   "outputs": [
    {
     "name": "stdout",
     "output_type": "stream",
     "text": [
      "Processed Enterocyte Progenitor\n",
      "Processed Goblet\n",
      "Processed EEC\n",
      "Processed EEC Progenitor\n",
      "Processed Tuft Progenitor\n",
      "Processed ISC\n",
      "Processed Goblet Progenitor\n",
      "Processed Tuft\n",
      "Processed Enterocyte\n",
      "Processed Not Annotated\n",
      "Processed Paneth\n",
      "Processed Paneth Progenitor\n",
      "Done!\n"
     ]
    }
   ],
   "source": [
    "# Get unique cell types\n",
    "cell_types = adata.obs['leiden15'].unique()\n",
    "\n",
    "# Create main directory\n",
    "os.makedirs(\"/home/glennrdx/Documents/Research_Project/scRNAseq-MSc-Analysis/3. upstream_analysis/crypt/differential_expression_deseq2/DESeq2_data_files/\", exist_ok=True)\n",
    "\n",
    "for cell_type in cell_types:\n",
    "    # Create directory for each cell type\n",
    "    cell_type_dir = os.path.join(\"/home/glennrdx/Documents/Research_Project/scRNAseq-MSc-Analysis/3. upstream_analysis/crypt/differential_expression_deseq2/DESeq2_data_files/\", cell_type)\n",
    "    os.makedirs(cell_type_dir, exist_ok=True)\n",
    "    \n",
    "    # Filter data for the current cell type\n",
    "    adata_subset = adata[adata.obs['leiden15'] == cell_type]\n",
    "    \n",
    "    # Create count matrix\n",
    "    count_matrix = pd.DataFrame(adata_subset.X.toarray(),\n",
    "                                index=adata_subset.obs_names,\n",
    "                                columns=adata_subset.var_names)\n",
    "    \n",
    "    # Aggregate counts by sample\n",
    "    count_matrix = count_matrix.groupby(adata_subset.obs['Sample'], observed=True).sum()\n",
    "    \n",
    "    # Save count matrix\n",
    "    count_matrix.to_csv(os.path.join(cell_type_dir, \"count_matrix.csv\"))\n",
    "    \n",
    "    # Create metadata\n",
    "    metadata = adata_subset.obs[['Sample', 'Diet']].drop_duplicates()\n",
    "    metadata = metadata.set_index('Sample')\n",
    "    \n",
    "    # Rename columns in metadata if necessary\n",
    "    metadata = metadata.rename(columns={\n",
    "        'gene_symbol': 'X',\n",
    "        'log2FoldChange': 'LogFC',\n",
    "        'pvalue': 'P.Value',\n",
    "        'padj': 'adj.P.Val'\n",
    "    })\n",
    "    \n",
    "    # Save metadata\n",
    "    metadata.to_csv(os.path.join(cell_type_dir, \"metadata.csv\"))\n",
    "    \n",
    "    print(f\"Processed {cell_type}\")\n",
    "\n",
    "print(\"Done!\")"
   ]
  }
 ],
 "metadata": {
  "kernelspec": {
   "display_name": ".venv",
   "language": "python",
   "name": "python3"
  },
  "language_info": {
   "codemirror_mode": {
    "name": "ipython",
    "version": 3
   },
   "file_extension": ".py",
   "mimetype": "text/x-python",
   "name": "python",
   "nbconvert_exporter": "python",
   "pygments_lexer": "ipython3",
   "version": "3.12.3"
  }
 },
 "nbformat": 4,
 "nbformat_minor": 2
}
