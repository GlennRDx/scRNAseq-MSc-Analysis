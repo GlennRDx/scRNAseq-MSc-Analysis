{
 "cells": [
  {
   "cell_type": "code",
   "execution_count": 1,
   "metadata": {},
   "outputs": [],
   "source": [
    "import scanpy as sc\n",
    "import pandas as pd\n",
    "import numpy as np\n",
    "import os\n",
    "\n",
    "# Load your AnnData object\n",
    "adata = sc.read_h5ad('/home/glennrdx/Documents/Research_Project/processed_h5ad/1.3 crypt_enriched_eec.h5ad')"
   ]
  },
  {
   "cell_type": "code",
   "execution_count": 2,
   "metadata": {},
   "outputs": [
    {
     "data": {
      "text/plain": [
       "AnnData object with n_obs × n_vars = 3091 × 17573\n",
       "    obs: 'Sample', 'Diet', 'n_genes_by_counts', 'log1p_n_genes_by_counts', 'total_counts', 'log1p_total_counts', 'pct_counts_in_top_50_genes', 'pct_counts_in_top_100_genes', 'pct_counts_in_top_200_genes', 'pct_counts_in_top_500_genes', 'total_counts_mt', 'log1p_total_counts_mt', 'pct_counts_mt', 'total_counts_ribo', 'log1p_total_counts_ribo', 'pct_counts_ribo', 'total_counts_hb', 'log1p_total_counts_hb', 'pct_counts_hb', 'n_genes', 'n_counts', 'doublet_score', 'predicted_doublet', '_scvi_batch', '_scvi_labels', 'leiden', 'published_annotations', 'leiden0', 'leiden1', 'agreeance_annotation', 'leiden2', 'leiden3', 'leiden4', 'leiden5', 'leiden6', 'leiden7', 'leiden8', 'leiden9', 'leiden10', 'leiden11', 'leiden12', 'leiden13', 'leiden14', 'leiden15', 'leiden16', 'leiden17', 'EEC_final'\n",
       "    var: 'mt', 'ribo', 'hb', 'n_cells_by_counts', 'mean_counts', 'log1p_mean_counts', 'pct_dropout_by_counts', 'total_counts', 'log1p_total_counts', 'n_cells'\n",
       "    uns: 'Diet_colors', 'EEC_final_colors', 'Sample_colors', 'leiden15_colors', 'leiden16', 'leiden16_colors', 'leiden17_colors', 'neighbors', 'published_annotations_colors', 'umap'\n",
       "    obsm: 'X_pca', 'X_scVI', 'X_umap', '_scvi_extra_categorical_covs'\n",
       "    obsp: 'connectivities', 'distances'"
      ]
     },
     "execution_count": 2,
     "metadata": {},
     "output_type": "execute_result"
    }
   ],
   "source": [
    "adata"
   ]
  },
  {
   "cell_type": "code",
   "execution_count": 4,
   "metadata": {},
   "outputs": [
    {
     "name": "stdout",
     "output_type": "stream",
     "text": [
      "Defa20, Ang4, Gm14850, Gm7861, Defa22, Gm15308, Itln1, Zg16, Defa17, Lyz1, Gm15284, Defa21, Fcgbp, Agr2, Gm15308, Clps, Spink4, Gm14851, AY761184, Defa24, Tff3\n"
     ]
    }
   ],
   "source": [
    "import random\n",
    "\n",
    "genes = ['Itln1','Spink4','Zg16','Lyz1','Defa21','Gm14851','Defa22','Gm15308','Gm15284',\n",
    "                   'Defa20','Gm15308','Gm14850','Gm7861','Defa17','AY761184', 'Ang4','Agr2','Clps','Tff3','Defa24','Fcgbp']\n",
    "\n",
    "random.shuffle(genes)\n",
    "print(', '.join(genes))"
   ]
  },
  {
   "cell_type": "code",
   "execution_count": 14,
   "metadata": {},
   "outputs": [],
   "source": [
    "def filter_amb(adata):\n",
    "    # ambient genes for filtering, see processing notebook\n",
    "    ambient_genes=['Itln1','Spink4','Zg16','Lyz1','Defa21','Gm14851','Defa22','Gm15308','Gm15284',\n",
    "                   'Defa20','Gm15308','Gm14850','Gm7861','Defa17','AY761184', 'Ang4','Agr2','Clps','Tff3','Defa24','Fcgbp']\n",
    "    ix_amb_genes = np.in1d(adata.var_names,ambient_genes,invert=True)\n",
    "    return (ix_amb_genes)"
   ]
  },
  {
   "cell_type": "code",
   "execution_count": 15,
   "metadata": {},
   "outputs": [],
   "source": [
    "def filter_genes(adata_filt, obs_name, group1, group2):\n",
    "    # Filter genes expressed in at least 10% of cells in either group\n",
    "    ix_group1 = np.isin(adata_filt.obs[obs_name], group1)\n",
    "    adata_sub_group1 = adata_filt[ix_group1].copy()\n",
    "    filter_1 = sc.pp.filter_genes(adata_sub_group1.X, min_cells=int(adata_sub_group1.n_obs * 0.1), inplace=False)[0]\n",
    "    del adata_sub_group1\n",
    "\n",
    "    ix_group2 = np.isin(adata_filt.obs[obs_name], group2)\n",
    "    adata_sub_group2 = adata_filt[ix_group2].copy()\n",
    "    filter_2 = sc.pp.filter_genes(adata_sub_group2.X, min_cells=int(adata_sub_group2.n_obs * 0.1), inplace=False)[0]\n",
    "    del adata_sub_group2\n",
    "    \n",
    "    ix_genes=[a or b for a, b in zip(filter_1,filter_2)]\n",
    "    \n",
    "    adata_filt = adata_filt[:,np.array(ix_genes)].copy()\n",
    "    \n",
    "    return adata_filt"
   ]
  },
  {
   "cell_type": "code",
   "execution_count": 16,
   "metadata": {},
   "outputs": [
    {
     "name": "stdout",
     "output_type": "stream",
     "text": [
      "Removing ambient genes ⌛\n",
      "Removing genes expressed in less than 10% of cells ⌛\n",
      "Saved results for cluster EEC (EC) to /home/glennrdx/Documents/Research_Project/scRNAseq-MSc-Analysis/3. upstream_analysis/crypt/differential_expression_scanpy/EEC_subpopulations/diff_exp_CD_vs_HFD_EEC (EC).csv\n",
      "Removing ambient genes ⌛\n",
      "Removing genes expressed in less than 10% of cells ⌛\n",
      "Saved results for cluster EEC progenitor to /home/glennrdx/Documents/Research_Project/scRNAseq-MSc-Analysis/3. upstream_analysis/crypt/differential_expression_scanpy/EEC_subpopulations/diff_exp_CD_vs_HFD_EEC progenitor.csv\n",
      "Removing ambient genes ⌛\n",
      "Removing genes expressed in less than 10% of cells ⌛\n",
      "Saved results for cluster EEC (I_L) to /home/glennrdx/Documents/Research_Project/scRNAseq-MSc-Analysis/3. upstream_analysis/crypt/differential_expression_scanpy/EEC_subpopulations/diff_exp_CD_vs_HFD_EEC (I_L).csv\n",
      "Removing ambient genes ⌛\n",
      "Removing genes expressed in less than 10% of cells ⌛\n",
      "Saved results for cluster EEC (K) to /home/glennrdx/Documents/Research_Project/scRNAseq-MSc-Analysis/3. upstream_analysis/crypt/differential_expression_scanpy/EEC_subpopulations/diff_exp_CD_vs_HFD_EEC (K).csv\n",
      "Removing ambient genes ⌛\n",
      "Removing genes expressed in less than 10% of cells ⌛\n",
      "Saved results for cluster EEC (X) to /home/glennrdx/Documents/Research_Project/scRNAseq-MSc-Analysis/3. upstream_analysis/crypt/differential_expression_scanpy/EEC_subpopulations/diff_exp_CD_vs_HFD_EEC (X).csv\n",
      "Removing ambient genes ⌛\n",
      "Removing genes expressed in less than 10% of cells ⌛\n",
      "Saved results for cluster EEC (Delta) to /home/glennrdx/Documents/Research_Project/scRNAseq-MSc-Analysis/3. upstream_analysis/crypt/differential_expression_scanpy/EEC_subpopulations/diff_exp_CD_vs_HFD_EEC (Delta).csv\n"
     ]
    }
   ],
   "source": [
    "# Define the directory path where the CSVs will be saved\n",
    "annotation = 'leiden15'\n",
    "output_dir = \"/home/glennrdx/Documents/Research_Project/scRNAseq-MSc-Analysis/3. upstream_analysis/crypt/differential_expression_scanpy\"\n",
    "\n",
    "# annotation = 'EEC_final'\n",
    "# output_dir = \"/home/glennrdx/Documents/Research_Project/scRNAseq-MSc-Analysis/3. upstream_analysis/crypt/differential_expression_scanpy/EEC_subpopulations\"\n",
    "\n",
    "# Ensure the directory exists (create it if it doesn't)\n",
    "os.makedirs(output_dir, exist_ok=True)\n",
    "\n",
    "# Get the unique cluster identifiers\n",
    "annot = adata.obs[annotation].unique()\n",
    "\n",
    "# Perform differential expression analysis for each cluster\n",
    "for cluster in annot:\n",
    "\n",
    "    # Subset the data for the cluster\n",
    "    adata_cluster = adata[adata.obs[annotation] == cluster].copy()\n",
    "\n",
    "    # Filter out ambient genes\n",
    "    print('Removing ambient genes ⌛')\n",
    "    ix_amb = filter_amb(adata_cluster) \n",
    "    adata_cluster = adata_cluster[:, ix_amb].copy()\n",
    "\n",
    "    # Filter out genes that are expressed in less than 10% of cells in either group (CD or HFD)\n",
    "    print('Removing genes expressed in less than 10% of cells ⌛')\n",
    "    adata_cluster = filter_genes(adata_cluster, 'Diet', 'CD', 'HFHSD')\n",
    "\n",
    "    # Perform differential expression between Diet conditions\n",
    "    sc.tl.rank_genes_groups(adata_cluster, groupby='Diet', method='wilcoxon')  # or 'wilcoxon', 'logreg', etc.\n",
    "\n",
    "    # Store the results\n",
    "    result = adata_cluster.uns['rank_genes_groups']\n",
    "\n",
    "    # Unpack the results\n",
    "    genes = result['names']\n",
    "    pvals = result['pvals']\n",
    "    pvals_adj = result['pvals_adj']\n",
    "    logfoldchanges = result['logfoldchanges']\n",
    "\n",
    "    # Define the comparison index for the second value\n",
    "    comparison_index = 1  # Adjust if needed for different comparisons\n",
    "\n",
    "    # Flatten the tuples and create the DataFrame\n",
    "    flat_results = []\n",
    "    for i in range(len(genes)):\n",
    "        if comparison_index < len(genes[i]):  # Check if the comparison index exists\n",
    "            logfc_value = logfoldchanges[i][comparison_index]\n",
    "            pval = pvals[i][comparison_index]\n",
    "            pval_adj = pvals_adj[i][comparison_index]\n",
    "\n",
    "            flat_results.append({\n",
    "                '': genes[i][comparison_index],\n",
    "                'logFC': logfc_value,\n",
    "                'AveExpr': np.nan,\n",
    "                't': np.nan,\n",
    "                'P.Value': pval,\n",
    "                'adj.P.Val': pval_adj,\n",
    "                'B': np.nan,\n",
    "                'abs.log2FC': logfc_value,\n",
    "            })\n",
    "\n",
    "    # Convert to DataFrame\n",
    "    df = pd.DataFrame(flat_results)\n",
    "\n",
    "    # Remove duplicate genes (keeping the first occurrence)\n",
    "    df_unique = df.drop_duplicates(subset='', keep='first')\n",
    "\n",
    "    # Define the file path for the current cluster\n",
    "    file_path = os.path.join(output_dir, f'diff_exp_CD_vs_HFD_{cluster}.csv')\n",
    "    \n",
    "    # Save the DataFrame to a CSV file with the specified format\n",
    "    df_unique.to_csv(file_path, index=False)\n",
    "    \n",
    "    print(f\"Saved results for cluster {cluster} to {file_path}\")\n"
   ]
  }
 ],
 "metadata": {
  "kernelspec": {
   "display_name": ".venv",
   "language": "python",
   "name": "python3"
  },
  "language_info": {
   "codemirror_mode": {
    "name": "ipython",
    "version": 3
   },
   "file_extension": ".py",
   "mimetype": "text/x-python",
   "name": "python",
   "nbconvert_exporter": "python",
   "pygments_lexer": "ipython3",
   "version": "3.12.3"
  }
 },
 "nbformat": 4,
 "nbformat_minor": 2
}
