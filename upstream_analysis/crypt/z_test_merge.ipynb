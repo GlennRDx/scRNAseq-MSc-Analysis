{
 "cells": [
  {
   "cell_type": "code",
   "execution_count": 5,
   "metadata": {},
   "outputs": [],
   "source": [
    "import scanpy as sc\n",
    "import pandas as pd"
   ]
  },
  {
   "cell_type": "code",
   "execution_count": 6,
   "metadata": {},
   "outputs": [],
   "source": [
    "# Load the AnnData objects\n",
    "adata = sc.read_h5ad('/home/glennrd/Documents/Research_Project/RNA-seq_Analysis/published_reference_material/h5ad_files/2_GSE147319_adata_raw.h5ad')\n",
    "adata_published = sc.read_h5ad('/home/glennrd/Documents/Research_Project/RNA-seq_Analysis/published_reference_material/h5ad_files/1_GSE147319_adata_processed.h5ad')"
   ]
  },
  {
   "cell_type": "code",
   "execution_count": 7,
   "metadata": {},
   "outputs": [],
   "source": [
    "# Extract the 'obs' data frames\n",
    "obs_unannotated = adata.obs\n",
    "obs_annotated = adata_published.obs[['groups_named_prog4']]"
   ]
  },
  {
   "cell_type": "code",
   "execution_count": 8,
   "metadata": {},
   "outputs": [],
   "source": [
    "# Merge the data frames on the index (UMIs), keeping only common UMIs\n",
    "merged_obs = obs_unannotated.merge(obs_annotated, left_index=True, right_index=True, how='left')"
   ]
  },
  {
   "cell_type": "code",
   "execution_count": 9,
   "metadata": {},
   "outputs": [],
   "source": [
    "# Update the 'obs' attribute of the unannotated AnnData object\n",
    "adata.obs2 = merged_obs"
   ]
  },
  {
   "cell_type": "code",
   "execution_count": 10,
   "metadata": {},
   "outputs": [],
   "source": [
    "# Save the updated adata object if needed\n",
    "# adata.write('/path/to/save/updated_adata.h5ad')"
   ]
  },
  {
   "cell_type": "code",
   "execution_count": 17,
   "metadata": {},
   "outputs": [
    {
     "name": "stdout",
     "output_type": "stream",
     "text": [
      "28456\n",
      "28456\n",
      "27687\n"
     ]
    }
   ],
   "source": [
    "# Optional: Check the head of adata.obs to verify annotations were added\n",
    "print(len(adata.obs))\n",
    "print(len(adata.obs2))"
   ]
  },
  {
   "cell_type": "code",
   "execution_count": 19,
   "metadata": {},
   "outputs": [
    {
     "name": "stdout",
     "output_type": "stream",
     "text": [
      "Unique annotations in the published object: ['Enterocyte progenitor', 'Goblet cell', 'EEC', 'Goblet progenitor', 'ISC', ..., 'Enterocyte', 'Tuft cell', 'EE progenitor', 'Paneth cell', 'Paneth progenitor']\n",
      "Length: 12\n",
      "Categories (12, object): ['ISC', 'Enterocyte progenitor', 'Enterocyte', 'Goblet progenitor', ..., 'Tuft cell', 'Paneth progenitor', 'Paneth cell', 'not annotated']\n",
      "\n",
      "\n",
      "Unique annotations in the newly annotated object: ['Enterocyte progenitor', 'Goblet cell', 'EEC', NaN, 'Goblet progenitor', ..., 'Enterocyte', 'Tuft cell', 'EE progenitor', 'Paneth cell', 'Paneth progenitor']\n",
      "Length: 13\n",
      "Categories (12, object): ['ISC', 'Enterocyte progenitor', 'Enterocyte', 'Goblet progenitor', ..., 'Tuft cell', 'Paneth progenitor', 'Paneth cell', 'not annotated']\n",
      "\n",
      "\n",
      "Number of NAs in the newly annotated object: 769\n"
     ]
    }
   ],
   "source": [
    "# Print unique annotations in the original annotated object\n",
    "unique_annotations_published = adata_published.obs['groups_named_prog4'].unique()\n",
    "print(\"Unique annotations in the published object:\", unique_annotations_published)\n",
    "\n",
    "print('\\n')\n",
    "\n",
    "# Print unique annotations in the newly annotated object\n",
    "unique_annotations_new = adata.obs2['groups_named_prog4'].unique()\n",
    "print(\"Unique annotations in the newly annotated object:\", unique_annotations_new)\n",
    "\n",
    "print('\\n')\n",
    "\n",
    "na_count = adata.obs2['groups_named_prog4'].isna().sum()\n",
    "print(\"Number of NAs in the newly annotated object:\", na_count)"
   ]
  }
 ],
 "metadata": {
  "kernelspec": {
   "display_name": "Python 3",
   "language": "python",
   "name": "python3"
  },
  "language_info": {
   "codemirror_mode": {
    "name": "ipython",
    "version": 3
   },
   "file_extension": ".py",
   "mimetype": "text/x-python",
   "name": "python",
   "nbconvert_exporter": "python",
   "pygments_lexer": "ipython3",
   "version": "3.10.12"
  }
 },
 "nbformat": 4,
 "nbformat_minor": 2
}
