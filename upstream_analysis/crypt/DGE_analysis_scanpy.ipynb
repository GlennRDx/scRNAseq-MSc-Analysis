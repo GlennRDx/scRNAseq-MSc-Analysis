{
 "cells": [
  {
   "cell_type": "code",
   "execution_count": null,
   "metadata": {},
   "outputs": [],
   "source": [
    "# Import Data\n",
    "adata = sc.read_h5ad('/home/glennrdx/Documents/Research_Project/processed_h5ad/crypt_enriched_temp.h5ad')"
   ]
  },
  {
   "cell_type": "code",
   "execution_count": null,
   "metadata": {},
   "outputs": [],
   "source": [
    "# Perform differential expression analysis\n",
    "sc.tl.rank_genes_groups(adata, groupby='group_column_name', method='t-test', use_raw=True)\n"
   ]
  },
  {
   "cell_type": "code",
   "execution_count": null,
   "metadata": {},
   "outputs": [],
   "source": [
    "# Extract the results\n",
    "result = adata.uns['rank_genes_groups']\n",
    "groups = result['names'].dtype.names\n",
    "\n",
    "# Save to CSV\n",
    "import pandas as pd\n",
    "\n",
    "# Create a dataframe\n",
    "df = pd.DataFrame(\n",
    "    {group + '_' + key: result[key][group]\n",
    "     for group in groups for key in ['names', 'scores', 'logfoldchanges', 'pvals', 'pvals_adj']}\n",
    ")\n",
    "\n",
    "# Save dataframe to CSV\n",
    "df.to_csv('differential_expression_results.csv', index=False)\n"
   ]
  }
 ],
 "metadata": {
  "language_info": {
   "name": "python"
  }
 },
 "nbformat": 4,
 "nbformat_minor": 2
}
