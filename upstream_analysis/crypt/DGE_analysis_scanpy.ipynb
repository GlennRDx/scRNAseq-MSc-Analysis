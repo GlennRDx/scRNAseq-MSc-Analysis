{
 "cells": [
  {
   "cell_type": "code",
   "execution_count": 32,
   "metadata": {},
   "outputs": [
    {
     "name": "stdout",
     "output_type": "stream",
     "text": [
      "Saved results for cluster Enterocyte Progenitor to /home/glennrdx/Documents/Research_Project/scRNAseq-MSc-Analysis/upstream_analysis/crypt/differential_expression_scanpy/differential_expression_cluster_Enterocyte Progenitor.csv\n",
      "Saved results for cluster Goblet to /home/glennrdx/Documents/Research_Project/scRNAseq-MSc-Analysis/upstream_analysis/crypt/differential_expression_scanpy/differential_expression_cluster_Goblet.csv\n",
      "Saved results for cluster EEC to /home/glennrdx/Documents/Research_Project/scRNAseq-MSc-Analysis/upstream_analysis/crypt/differential_expression_scanpy/differential_expression_cluster_EEC.csv\n",
      "Saved results for cluster EEC Progenitor to /home/glennrdx/Documents/Research_Project/scRNAseq-MSc-Analysis/upstream_analysis/crypt/differential_expression_scanpy/differential_expression_cluster_EEC Progenitor.csv\n",
      "Saved results for cluster Tuft Progenitor to /home/glennrdx/Documents/Research_Project/scRNAseq-MSc-Analysis/upstream_analysis/crypt/differential_expression_scanpy/differential_expression_cluster_Tuft Progenitor.csv\n",
      "Saved results for cluster ISC to /home/glennrdx/Documents/Research_Project/scRNAseq-MSc-Analysis/upstream_analysis/crypt/differential_expression_scanpy/differential_expression_cluster_ISC.csv\n",
      "Saved results for cluster Goblet Progenitor to /home/glennrdx/Documents/Research_Project/scRNAseq-MSc-Analysis/upstream_analysis/crypt/differential_expression_scanpy/differential_expression_cluster_Goblet Progenitor.csv\n",
      "Saved results for cluster Tuft to /home/glennrdx/Documents/Research_Project/scRNAseq-MSc-Analysis/upstream_analysis/crypt/differential_expression_scanpy/differential_expression_cluster_Tuft.csv\n",
      "Saved results for cluster Enterocyte to /home/glennrdx/Documents/Research_Project/scRNAseq-MSc-Analysis/upstream_analysis/crypt/differential_expression_scanpy/differential_expression_cluster_Enterocyte.csv\n",
      "Saved results for cluster Not Annotated to /home/glennrdx/Documents/Research_Project/scRNAseq-MSc-Analysis/upstream_analysis/crypt/differential_expression_scanpy/differential_expression_cluster_Not Annotated.csv\n",
      "Saved results for cluster Paneth to /home/glennrdx/Documents/Research_Project/scRNAseq-MSc-Analysis/upstream_analysis/crypt/differential_expression_scanpy/differential_expression_cluster_Paneth.csv\n",
      "Saved results for cluster Paneth Progenitor to /home/glennrdx/Documents/Research_Project/scRNAseq-MSc-Analysis/upstream_analysis/crypt/differential_expression_scanpy/differential_expression_cluster_Paneth Progenitor.csv\n"
     ]
    }
   ],
   "source": [
    "import scanpy as sc\n",
    "import pandas as pd\n",
    "import numpy as np\n",
    "import os\n",
    "import math\n",
    "\n",
    "# Load your AnnData object\n",
    "adata = sc.read_h5ad('/home/glennrdx/Documents/Research_Project/processed_h5ad/crypt_enriched_final.h5ad')\n",
    "\n",
    "# Define the directory path where the CSVs will be saved\n",
    "output_dir = \"/home/glennrdx/Documents/Research_Project/scRNAseq-MSc-Analysis/upstream_analysis/crypt/differential_expression_scanpy\"\n",
    "\n",
    "# Ensure the directory exists (create it if it doesn't)\n",
    "os.makedirs(output_dir, exist_ok=True)\n",
    "\n",
    "# Get the unique cluster identifiers\n",
    "leiden15 = adata.obs['leiden15'].unique()\n",
    "results = {}\n",
    "\n",
    "# Perform differential expression analysis for each cluster\n",
    "for cluster in leiden15:\n",
    "\n",
    "    # Subset the data for the cluster\n",
    "    adata_cluster = adata[adata.obs['leiden15'] == cluster].copy()\n",
    "\n",
    "    # Perform differential expression between Diet conditions\n",
    "    sc.tl.rank_genes_groups(adata_cluster, groupby='Diet', method='t-test')  # or 'wilcoxon', 'logreg', etc.\n",
    "\n",
    "    # Store the results\n",
    "    results[cluster] = adata_cluster.uns['rank_genes_groups']\n",
    "\n",
    "    # Unpack the results\n",
    "    genes = results[cluster]['names']\n",
    "    pvals = results[cluster]['pvals']\n",
    "    pvals_adj = results[cluster]['pvals_adj']\n",
    "    logfoldchanges = results[cluster]['logfoldchanges']\n",
    "\n",
    "    # Flatten the tuples and create the DataFrame\n",
    "    flat_results = []\n",
    "    for i in range(len(genes)):\n",
    "        for j in range(len(genes[i])):  # iterate over each item in the tuple\n",
    "            logfc_value = logfoldchanges[i][j]\n",
    "\n",
    "            flat_results.append({\n",
    "                '': genes[i][j],\n",
    "                'logFC': logfc_value,\n",
    "                'P.Value': pvals[i][j],\n",
    "                'adj.P.Val': pvals_adj[i][j]\n",
    "            })\n",
    "    \n",
    "    # Convert to DataFrame\n",
    "    df = pd.DataFrame(flat_results)\n",
    "\n",
    "    # Define the file path for the current cluster\n",
    "    file_path = os.path.join(output_dir, f'differential_expression_cluster_{cluster}.csv')\n",
    "    \n",
    "    # Save the DataFrame to a CSV file with the specified format\n",
    "    df.to_csv(file_path, index=False)\n",
    "    \n",
    "    print(f\"Saved results for cluster {cluster} to {file_path}\")"
   ]
  },
  {
   "cell_type": "code",
   "execution_count": 38,
   "metadata": {},
   "outputs": [
    {
     "data": {
      "text/plain": [
       "17573"
      ]
     },
     "execution_count": 38,
     "metadata": {},
     "output_type": "execute_result"
    }
   ],
   "source": [
    "len(adata.var)"
   ]
  },
  {
   "cell_type": "code",
   "execution_count": 19,
   "metadata": {},
   "outputs": [
    {
     "name": "stderr",
     "output_type": "stream",
     "text": [
      "/home/glennrdx/virtual_envs/.venv/lib/python3.12/site-packages/scanpy/tools/_rank_genes_groups.py:645: ImplicitModificationWarning: Trying to modify attribute `._uns` of view, initializing view as actual.\n",
      "  adata.uns[key_added] = {}\n"
     ]
    }
   ],
   "source": [
    "adata_cluster_single = adata[adata.obs['leiden15'] == cluster]\n",
    "sc.tl.rank_genes_groups(adata_cluster_single, groupby='Diet', method='t-test')"
   ]
  },
  {
   "cell_type": "code",
   "execution_count": 21,
   "metadata": {},
   "outputs": [
    {
     "data": {
      "text/plain": [
       "{'params': {'groupby': 'Diet',\n",
       "  'reference': 'rest',\n",
       "  'method': 't-test',\n",
       "  'use_raw': False,\n",
       "  'layer': None,\n",
       "  'corr_method': 'benjamini-hochberg'},\n",
       " 'names': rec.array([('Rpl9-ps6', 'Fabp1'), ('Btg1', 'Agt'), ('Gm42418', 'Pdss1'),\n",
       "            ..., ('Pdss1', 'Gm42418'), ('Agt', 'Btg1'),\n",
       "            ('Fabp1', 'Rpl9-ps6')],\n",
       "           dtype=[('CD', 'O'), ('HFHSD', 'O')]),\n",
       " 'scores': rec.array([(  3.468802 , 10.030092 ), (  3.454072 ,  6.6669044),\n",
       "            (  3.3278198,  4.2323904), ..., ( -4.2323904, -3.3278198),\n",
       "            ( -6.6669044, -3.454072 ), (-10.030092 , -3.468802 )],\n",
       "           dtype=[('CD', '<f4'), ('HFHSD', '<f4')]),\n",
       " 'pvals': rec.array([(8.10150779e-04, 1.37964655e-17),\n",
       "            (8.65007448e-04, 8.23993030e-10),\n",
       "            (1.25490412e-03, 4.58004442e-05), ...,\n",
       "            (4.58004442e-05, 1.25490412e-03),\n",
       "            (8.23993030e-10, 8.65007448e-04),\n",
       "            (1.37964655e-17, 8.10150779e-04)],\n",
       "           dtype=[('CD', '<f8'), ('HFHSD', '<f8')]),\n",
       " 'pvals_adj': rec.array([(4.70719745e-01, 2.42445289e-13),\n",
       "            (4.70719745e-01, 7.24001476e-06),\n",
       "            (4.97875334e-01, 2.54506276e-01), ...,\n",
       "            (2.54506276e-01, 4.97875334e-01),\n",
       "            (7.24001476e-06, 4.70719745e-01),\n",
       "            (2.42445289e-13, 4.70719745e-01)],\n",
       "           dtype=[('CD', '<f8'), ('HFHSD', '<f8')]),\n",
       " 'logfoldchanges': rec.array([( 0.8000467 ,  2.6352532 ), ( 0.9758648 ,  2.5512872 ),\n",
       "            ( 0.68685716,  2.9263625 ), ..., (-2.9263625 , -0.68685716),\n",
       "            (-2.5512872 , -0.9758648 ), (-2.6352532 , -0.8000467 )],\n",
       "           dtype=[('CD', '<f4'), ('HFHSD', '<f4')])}"
      ]
     },
     "execution_count": 21,
     "metadata": {},
     "output_type": "execute_result"
    }
   ],
   "source": [
    "adata_cluster_single.uns['rank_genes_groups']"
   ]
  }
 ],
 "metadata": {
  "kernelspec": {
   "display_name": ".venv",
   "language": "python",
   "name": "python3"
  },
  "language_info": {
   "codemirror_mode": {
    "name": "ipython",
    "version": 3
   },
   "file_extension": ".py",
   "mimetype": "text/x-python",
   "name": "python",
   "nbconvert_exporter": "python",
   "pygments_lexer": "ipython3",
   "version": "3.12.3"
  }
 },
 "nbformat": 4,
 "nbformat_minor": 2
}
