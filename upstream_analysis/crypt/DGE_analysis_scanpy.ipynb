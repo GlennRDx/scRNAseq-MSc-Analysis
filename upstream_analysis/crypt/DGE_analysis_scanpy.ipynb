{
 "cells": [
  {
   "cell_type": "code",
   "execution_count": 16,
   "metadata": {},
   "outputs": [
    {
     "name": "stdout",
     "output_type": "stream",
     "text": [
      "Saved results for cluster Enterocyte Progenitor to /home/glennrdx/Documents/Research_Project/scRNAseq-MSc-Analysis/upstream_analysis/crypt/differential_expression_scanpy/diff_exp_CD_vs_HFD_Enterocyte Progenitor.csv\n",
      "Saved results for cluster Goblet to /home/glennrdx/Documents/Research_Project/scRNAseq-MSc-Analysis/upstream_analysis/crypt/differential_expression_scanpy/diff_exp_CD_vs_HFD_Goblet.csv\n",
      "Saved results for cluster EEC to /home/glennrdx/Documents/Research_Project/scRNAseq-MSc-Analysis/upstream_analysis/crypt/differential_expression_scanpy/diff_exp_CD_vs_HFD_EEC.csv\n",
      "Saved results for cluster EEC Progenitor to /home/glennrdx/Documents/Research_Project/scRNAseq-MSc-Analysis/upstream_analysis/crypt/differential_expression_scanpy/diff_exp_CD_vs_HFD_EEC Progenitor.csv\n",
      "Saved results for cluster Tuft Progenitor to /home/glennrdx/Documents/Research_Project/scRNAseq-MSc-Analysis/upstream_analysis/crypt/differential_expression_scanpy/diff_exp_CD_vs_HFD_Tuft Progenitor.csv\n",
      "Saved results for cluster ISC to /home/glennrdx/Documents/Research_Project/scRNAseq-MSc-Analysis/upstream_analysis/crypt/differential_expression_scanpy/diff_exp_CD_vs_HFD_ISC.csv\n",
      "Saved results for cluster Goblet Progenitor to /home/glennrdx/Documents/Research_Project/scRNAseq-MSc-Analysis/upstream_analysis/crypt/differential_expression_scanpy/diff_exp_CD_vs_HFD_Goblet Progenitor.csv\n",
      "Saved results for cluster Tuft to /home/glennrdx/Documents/Research_Project/scRNAseq-MSc-Analysis/upstream_analysis/crypt/differential_expression_scanpy/diff_exp_CD_vs_HFD_Tuft.csv\n",
      "Saved results for cluster Enterocyte to /home/glennrdx/Documents/Research_Project/scRNAseq-MSc-Analysis/upstream_analysis/crypt/differential_expression_scanpy/diff_exp_CD_vs_HFD_Enterocyte.csv\n",
      "Saved results for cluster Not Annotated to /home/glennrdx/Documents/Research_Project/scRNAseq-MSc-Analysis/upstream_analysis/crypt/differential_expression_scanpy/diff_exp_CD_vs_HFD_Not Annotated.csv\n",
      "Saved results for cluster Paneth to /home/glennrdx/Documents/Research_Project/scRNAseq-MSc-Analysis/upstream_analysis/crypt/differential_expression_scanpy/diff_exp_CD_vs_HFD_Paneth.csv\n",
      "Saved results for cluster Paneth Progenitor to /home/glennrdx/Documents/Research_Project/scRNAseq-MSc-Analysis/upstream_analysis/crypt/differential_expression_scanpy/diff_exp_CD_vs_HFD_Paneth Progenitor.csv\n"
     ]
    }
   ],
   "source": [
    "import scanpy as sc\n",
    "import pandas as pd\n",
    "import numpy as np\n",
    "import os\n",
    "\n",
    "# Load your AnnData object\n",
    "adata = sc.read_h5ad('/home/glennrdx/Documents/Research_Project/processed_h5ad/crypt_enriched_final.h5ad')\n",
    "\n",
    "# Define the directory path where the CSVs will be saved\n",
    "output_dir = \"/home/glennrdx/Documents/Research_Project/scRNAseq-MSc-Analysis/upstream_analysis/crypt/differential_expression_scanpy\"\n",
    "\n",
    "# Ensure the directory exists (create it if it doesn't)\n",
    "os.makedirs(output_dir, exist_ok=True)\n",
    "\n",
    "# Get the unique cluster identifiers\n",
    "leiden15 = adata.obs['leiden15'].unique()\n",
    "\n",
    "# Perform differential expression analysis for each cluster\n",
    "for cluster in leiden15:\n",
    "\n",
    "    # Subset the data for the cluster\n",
    "    adata_cluster = adata[adata.obs['leiden15'] == cluster].copy()\n",
    "\n",
    "    # Perform differential expression between Diet conditions\n",
    "    sc.tl.rank_genes_groups(adata_cluster, groupby='Diet', method='wilcoxon')  # or 'wilcoxon', 'logreg', etc.\n",
    "\n",
    "    # Store the results\n",
    "    result = adata_cluster.uns['rank_genes_groups']\n",
    "\n",
    "    # Unpack the results\n",
    "    genes = result['names']\n",
    "    pvals = result['pvals']\n",
    "    pvals_adj = result['pvals_adj']\n",
    "    logfoldchanges = result['logfoldchanges']\n",
    "\n",
    "    # Define the comparison index for the second value\n",
    "    comparison_index = 1  # Adjust if needed for different comparisons\n",
    "\n",
    "    # Flatten the tuples and create the DataFrame\n",
    "    flat_results = []\n",
    "    for i in range(len(genes)):\n",
    "        if comparison_index < len(genes[i]):  # Check if the comparison index exists\n",
    "            logfc_value = logfoldchanges[i][comparison_index]\n",
    "            pval = pvals[i][comparison_index]\n",
    "            pval_adj = pvals_adj[i][comparison_index]\n",
    "\n",
    "            flat_results.append({\n",
    "                '': genes[i][comparison_index],\n",
    "                'logFC': logfc_value,\n",
    "                'AveExpr': np.nan,\n",
    "                't': np.nan,\n",
    "                'P.Value': pval,\n",
    "                'adj.P.Val': pval_adj,\n",
    "                'B': np.nan,\n",
    "                'abs.log2FC': logfc_value,\n",
    "            })\n",
    "\n",
    "    # Convert to DataFrame\n",
    "    df = pd.DataFrame(flat_results)\n",
    "\n",
    "    # Remove duplicate genes (keeping the first occurrence)\n",
    "    df_unique = df.drop_duplicates(subset='', keep='first')\n",
    "\n",
    "    # Define the file path for the current cluster\n",
    "    file_path = os.path.join(output_dir, f'diff_exp_CD_vs_HFD_{cluster}.csv')\n",
    "    \n",
    "    # Save the DataFrame to a CSV file with the specified format\n",
    "    df_unique.to_csv(file_path, index=False)\n",
    "    \n",
    "    print(f\"Saved results for cluster {cluster} to {file_path}\")\n"
   ]
  },
  {
   "cell_type": "code",
   "execution_count": 7,
   "metadata": {},
   "outputs": [],
   "source": [
    "import scanpy as sc\n",
    "import pandas as pd\n",
    "import numpy as np\n",
    "import os\n",
    "import matplotlib as plt \n",
    "\n",
    "# Load your AnnData object\n",
    "adata = sc.read_h5ad('/home/glennrdx/Documents/Research_Project/processed_h5ad/crypt_enriched_final.h5ad')"
   ]
  },
  {
   "cell_type": "code",
   "execution_count": 8,
   "metadata": {},
   "outputs": [],
   "source": [
    "def plot_gene_heatmap_umap(adata, genes, size = 30):\n",
    "    \"\"\"\n",
    "    Plot heatmap UMAPs for a list of genes in an AnnData object.\n",
    "\n",
    "    Parameters:\n",
    "    -----------\n",
    "    adata : AnnData\n",
    "        The AnnData object containing the single-cell data.\n",
    "    genes : list\n",
    "        A list of gene names to plot.\n",
    "\n",
    "    Returns:\n",
    "    --------\n",
    "    None. The function displays the plots.\n",
    "    \"\"\"\n",
    "    num_genes = len(genes)\n",
    "    fig, axes = plt.subplots(1, num_genes, figsize=(6*num_genes, 6))\n",
    "    \n",
    "    if num_genes == 1:\n",
    "        axes = [axes]\n",
    "    \n",
    "    for ax, gene in zip(axes, genes):\n",
    "        sc.pl.umap(\n",
    "            adata,\n",
    "            color=gene,\n",
    "            title=f'UMAP Heatmap - {gene}',\n",
    "            frameon=False,\n",
    "            ax=ax,\n",
    "            size=size,\n",
    "            color_map='viridis',\n",
    "            show=False\n",
    "        )\n",
    "        \n",
    "        ax.set_facecolor('black')\n",
    "    \n",
    "    plt.tight_layout()\n",
    "    plt.show()\n",
    "\n",
    "# Example usage:\n",
    "# plot_gene_heatmap_umap(adata, ['Gene1', 'Gene2', 'Gene3'])"
   ]
  },
  {
   "cell_type": "code",
   "execution_count": 6,
   "metadata": {},
   "outputs": [
    {
     "ename": "AttributeError",
     "evalue": "module 'matplotlib' has no attribute 'subplots'",
     "output_type": "error",
     "traceback": [
      "\u001b[0;31m---------------------------------------------------------------------------\u001b[0m",
      "\u001b[0;31mAttributeError\u001b[0m                            Traceback (most recent call last)",
      "Cell \u001b[0;32mIn[6], line 1\u001b[0m\n\u001b[0;32m----> 1\u001b[0m \u001b[43mplot_gene_heatmap_umap\u001b[49m\u001b[43m(\u001b[49m\u001b[43madata\u001b[49m\u001b[43m,\u001b[49m\u001b[43m \u001b[49m\u001b[43m[\u001b[49m\u001b[38;5;124;43m'\u001b[39;49m\u001b[38;5;124;43mPdlim2\u001b[39;49m\u001b[38;5;124;43m'\u001b[39;49m\u001b[43m]\u001b[49m\u001b[43m)\u001b[49m\n",
      "Cell \u001b[0;32mIn[5], line 17\u001b[0m, in \u001b[0;36mplot_gene_heatmap_umap\u001b[0;34m(adata, genes, size)\u001b[0m\n\u001b[1;32m      2\u001b[0m \u001b[38;5;250m\u001b[39m\u001b[38;5;124;03m\"\"\"\u001b[39;00m\n\u001b[1;32m      3\u001b[0m \u001b[38;5;124;03mPlot heatmap UMAPs for a list of genes in an AnnData object.\u001b[39;00m\n\u001b[1;32m      4\u001b[0m \n\u001b[0;32m   (...)\u001b[0m\n\u001b[1;32m     14\u001b[0m \u001b[38;5;124;03mNone. The function displays the plots.\u001b[39;00m\n\u001b[1;32m     15\u001b[0m \u001b[38;5;124;03m\"\"\"\u001b[39;00m\n\u001b[1;32m     16\u001b[0m num_genes \u001b[38;5;241m=\u001b[39m \u001b[38;5;28mlen\u001b[39m(genes)\n\u001b[0;32m---> 17\u001b[0m fig, axes \u001b[38;5;241m=\u001b[39m \u001b[43mplt\u001b[49m\u001b[38;5;241;43m.\u001b[39;49m\u001b[43msubplots\u001b[49m(\u001b[38;5;241m1\u001b[39m, num_genes, figsize\u001b[38;5;241m=\u001b[39m(\u001b[38;5;241m6\u001b[39m\u001b[38;5;241m*\u001b[39mnum_genes, \u001b[38;5;241m6\u001b[39m))\n\u001b[1;32m     19\u001b[0m \u001b[38;5;28;01mif\u001b[39;00m num_genes \u001b[38;5;241m==\u001b[39m \u001b[38;5;241m1\u001b[39m:\n\u001b[1;32m     20\u001b[0m     axes \u001b[38;5;241m=\u001b[39m [axes]\n",
      "File \u001b[0;32m~/virtual_envs/.venv/lib/python3.12/site-packages/matplotlib/_api/__init__.py:217\u001b[0m, in \u001b[0;36mcaching_module_getattr.<locals>.__getattr__\u001b[0;34m(name)\u001b[0m\n\u001b[1;32m    215\u001b[0m \u001b[38;5;28;01mif\u001b[39;00m name \u001b[38;5;129;01min\u001b[39;00m props:\n\u001b[1;32m    216\u001b[0m     \u001b[38;5;28;01mreturn\u001b[39;00m props[name]\u001b[38;5;241m.\u001b[39m\u001b[38;5;21m__get__\u001b[39m(instance)\n\u001b[0;32m--> 217\u001b[0m \u001b[38;5;28;01mraise\u001b[39;00m \u001b[38;5;167;01mAttributeError\u001b[39;00m(\n\u001b[1;32m    218\u001b[0m     \u001b[38;5;124mf\u001b[39m\u001b[38;5;124m\"\u001b[39m\u001b[38;5;124mmodule \u001b[39m\u001b[38;5;132;01m{\u001b[39;00m\u001b[38;5;28mcls\u001b[39m\u001b[38;5;241m.\u001b[39m\u001b[38;5;18m__module__\u001b[39m\u001b[38;5;132;01m!r}\u001b[39;00m\u001b[38;5;124m has no attribute \u001b[39m\u001b[38;5;132;01m{\u001b[39;00mname\u001b[38;5;132;01m!r}\u001b[39;00m\u001b[38;5;124m\"\u001b[39m)\n",
      "\u001b[0;31mAttributeError\u001b[0m: module 'matplotlib' has no attribute 'subplots'"
     ]
    }
   ],
   "source": [
    "plot_gene_heatmap_umap(adata, ['Pdlim2'])"
   ]
  }
 ],
 "metadata": {
  "kernelspec": {
   "display_name": ".venv",
   "language": "python",
   "name": "python3"
  },
  "language_info": {
   "codemirror_mode": {
    "name": "ipython",
    "version": 3
   },
   "file_extension": ".py",
   "mimetype": "text/x-python",
   "name": "python",
   "nbconvert_exporter": "python",
   "pygments_lexer": "ipython3",
   "version": "3.12.3"
  }
 },
 "nbformat": 4,
 "nbformat_minor": 2
}
